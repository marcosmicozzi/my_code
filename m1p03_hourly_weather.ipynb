{
 "cells": [
  {
   "cell_type": "markdown",
   "metadata": {},
   "source": [
    "# Importing Libraries"
   ]
  },
  {
   "cell_type": "code",
   "execution_count": 42,
   "metadata": {},
   "outputs": [],
   "source": [
    "import pandas as pd\n",
    "import numpy as np"
   ]
  },
  {
   "cell_type": "markdown",
   "metadata": {},
   "source": [
    "# Read CSV"
   ]
  },
  {
   "cell_type": "code",
   "execution_count": 43,
   "metadata": {},
   "outputs": [
    {
     "name": "stderr",
     "output_type": "stream",
     "text": [
      "/var/folders/pm/7vn7thz14p556cr_ql9w5xbw0000gn/T/ipykernel_17607/1347799399.py:3: DtypeWarning: Columns (5,7) have mixed types. Specify dtype option on import or set low_memory=False.\n",
      "  df_full = pd.read_csv('/Users/kimberleybrown/Desktop/CODING_ALL/Code_Academy_Berlin/Module01/Module01_Project03/data_provided/CBS_2021-2023_Full.csv')\n"
     ]
    }
   ],
   "source": [
    "df_dailyweather = pd.read_csv('/Users/kimberleybrown/Desktop/CODING_ALL/Code_Academy_Berlin/Module01/Module01_Project03/data_provided/CBS_2021-2023_Daily_Weather.csv')\n",
    "df_hourly_weather = pd.read_csv('/Users/kimberleybrown/Desktop/CODING_ALL/Code_Academy_Berlin/Module01/Module01_Project03/data_provided/CBS_2021-2023_Hourly_Weather.csv')\n",
    "df_full = pd.read_csv('/Users/kimberleybrown/Desktop/CODING_ALL/Code_Academy_Berlin/Module01/Module01_Project03/data_provided/CBS_2021-2023_Full.csv')"
   ]
  },
  {
   "cell_type": "markdown",
   "metadata": {},
   "source": [
    "# SneakPeak Data"
   ]
  },
  {
   "cell_type": "markdown",
   "metadata": {},
   "source": [
    "## .head()"
   ]
  },
  {
   "cell_type": "code",
   "execution_count": 44,
   "metadata": {},
   "outputs": [
    {
     "name": "stdout",
     "output_type": "stream",
     "text": [
      "df_dailyweather\n",
      "   Casual        Date  Member  Total_rides  apparent_temperature_mean (°C)  \\\n",
      "0     371  2021-01-01     590          961                            -0.9   \n",
      "1    2874  2021-01-02    2844         5718                             4.8   \n",
      "2     495  2021-01-03    1133         1628                             0.9   \n",
      "3     907  2021-01-04    2074         2981                             1.0   \n",
      "4    1057  2021-01-05    2004         3061                             1.4   \n",
      "\n",
      "   temperature_2m_mean (°C)  weathercode (wmo code)  windspeed_10m_max (km/h)  \n",
      "0                       2.3                      63                      10.6  \n",
      "1                       7.6                      61                      19.1  \n",
      "2                       3.9                      63                      13.0  \n",
      "3                       4.1                       3                      13.3  \n",
      "4                       4.0                      51                       9.2  \n",
      "----------\n",
      "----------\n",
      "----------\n",
      "----------\n",
      "----------\n",
      "df_hourly_weather\n",
      "   Casual        Date  Hour  Member  Total_rides  relativehumidity_2m (%)  \\\n",
      "0    20.0  2021-01-01     0    26.0         46.0                       90   \n",
      "1    23.0  2021-01-01     1    23.0         46.0                       88   \n",
      "2    20.0  2021-01-01     2    28.0         48.0                       87   \n",
      "3     9.0  2021-01-01     3     7.0         16.0                       81   \n",
      "4     7.0  2021-01-01     4     5.0         12.0                       77   \n",
      "\n",
      "   temperature_2m (°C)  weathercode (wmo code)  windspeed_10m (km/h)  \n",
      "0                  2.4                       1                  10.2  \n",
      "1                  1.8                       1                  10.0  \n",
      "2                  1.1                       2                  10.1  \n",
      "3                  1.6                       2                  10.6  \n",
      "4                  1.6                       2                   9.9  \n",
      "----------\n",
      "----------\n",
      "----------\n",
      "----------\n",
      "----------\n",
      "df_full\n",
      "            ride_id  rideable_type           started_at             ended_at  \\\n",
      "0  5CB9DFCECF79AF84   classic_bike  2021-01-01 00:08:33  2021-01-01 00:33:53   \n",
      "1  629E059504606547  electric_bike  2021-01-01 00:13:43  2021-01-01 00:29:34   \n",
      "2  E74069873161EE33  electric_bike  2021-01-01 00:14:32  2021-01-01 00:28:45   \n",
      "3  91F95E512CABC46A   classic_bike  2021-01-01 00:15:45  2021-01-01 00:21:20   \n",
      "4  DA46A05139C0EA2F   classic_bike  2021-01-01 00:17:46  2021-01-01 00:21:00   \n",
      "\n",
      "              start_station_name start_station_id  \\\n",
      "0          Maine Ave & 9th St SW          31646.0   \n",
      "1                 10th & U St NW          31111.0   \n",
      "2          17th & Corcoran St NW          31214.0   \n",
      "3  Wilson Blvd. & N. Vermont St.          31926.0   \n",
      "4              11th & Park Rd NW          31651.0   \n",
      "\n",
      "                           end_station_name end_station_id  start_lat  \\\n",
      "0  Rosslyn Metro / Wilson Blvd & Ft Myer Dr        31015.0  38.880440   \n",
      "1                                       NaN            NaN  38.917193   \n",
      "2                      14th & Belmont St NW        31119.0  38.912138   \n",
      "3             Wilson Blvd. & N. Vermont St.        31926.0  38.879477   \n",
      "4                       14th & Newton St NW        31649.0  38.931322   \n",
      "\n",
      "   start_lng    end_lat    end_lng member_casual  \n",
      "0 -77.025236  38.894600 -77.072305        member  \n",
      "1 -77.025894  38.960000 -77.020000        casual  \n",
      "2 -77.038568  38.920870 -77.031691        member  \n",
      "3 -77.114563  38.879477 -77.114563        member  \n",
      "4 -77.028247  38.931991 -77.032956        member  \n"
     ]
    }
   ],
   "source": [
    "print('df_dailyweather')\n",
    "print(df_dailyweather.head())\n",
    "print('----------')\n",
    "print('----------')\n",
    "print('----------')\n",
    "print('----------')\n",
    "print('----------')\n",
    "print('df_hourly_weather')\n",
    "print(df_hourly_weather.head())\n",
    "print('----------')\n",
    "print('----------')\n",
    "print('----------')\n",
    "print('----------')\n",
    "print('----------')\n",
    "print('df_full')\n",
    "print(df_full.head())\n"
   ]
  },
  {
   "cell_type": "markdown",
   "metadata": {},
   "source": [
    "## .columns"
   ]
  },
  {
   "cell_type": "code",
   "execution_count": 45,
   "metadata": {},
   "outputs": [
    {
     "name": "stdout",
     "output_type": "stream",
     "text": [
      "df_dailyweather\n",
      "Index(['Casual', 'Date', 'Member', 'Total_rides',\n",
      "       'apparent_temperature_mean (°C)', 'temperature_2m_mean (°C)',\n",
      "       'weathercode (wmo code)', 'windspeed_10m_max (km/h)'],\n",
      "      dtype='object')\n",
      "----------\n",
      "----------\n",
      "----------\n",
      "----------\n",
      "----------\n",
      "df_hourly_weather\n",
      "Index(['Casual', 'Date', 'Hour', 'Member', 'Total_rides',\n",
      "       'relativehumidity_2m (%)', 'temperature_2m (°C)',\n",
      "       'weathercode (wmo code)', 'windspeed_10m (km/h)'],\n",
      "      dtype='object')\n",
      "----------\n",
      "----------\n",
      "----------\n",
      "----------\n",
      "----------\n",
      "df_full\n",
      "Index(['ride_id', 'rideable_type', 'started_at', 'ended_at',\n",
      "       'start_station_name', 'start_station_id', 'end_station_name',\n",
      "       'end_station_id', 'start_lat', 'start_lng', 'end_lat', 'end_lng',\n",
      "       'member_casual'],\n",
      "      dtype='object')\n"
     ]
    }
   ],
   "source": [
    "print('df_dailyweather')\n",
    "print(df_dailyweather.columns)\n",
    "print('----------')\n",
    "print('----------')\n",
    "print('----------')\n",
    "print('----------')\n",
    "print('----------')\n",
    "print('df_hourly_weather')\n",
    "print(df_hourly_weather.columns)\n",
    "print('----------')\n",
    "print('----------')\n",
    "print('----------')\n",
    "print('----------')\n",
    "print('----------')\n",
    "print('df_full')\n",
    "print(df_full.columns)\n"
   ]
  },
  {
   "cell_type": "markdown",
   "metadata": {},
   "source": [
    "# ----------------------------------------------"
   ]
  },
  {
   "cell_type": "markdown",
   "metadata": {},
   "source": [
    "### Visualize"
   ]
  },
  {
   "cell_type": "markdown",
   "metadata": {},
   "source": [
    "# Hourly Weather"
   ]
  },
  {
   "cell_type": "markdown",
   "metadata": {},
   "source": [
    "## Cleaning"
   ]
  },
  {
   "cell_type": "markdown",
   "metadata": {},
   "source": [
    "### Check for Null"
   ]
  },
  {
   "cell_type": "code",
   "execution_count": 52,
   "metadata": {},
   "outputs": [
    {
     "name": "stdout",
     "output_type": "stream",
     "text": [
      "<class 'pandas.core.frame.DataFrame'>\n",
      "RangeIndex: 26280 entries, 0 to 26279\n",
      "Data columns (total 9 columns):\n",
      " #   Column                   Non-Null Count  Dtype  \n",
      "---  ------                   --------------  -----  \n",
      " 0   Casual                   26269 non-null  float64\n",
      " 1   Date                     26280 non-null  object \n",
      " 2   Hour                     26280 non-null  int64  \n",
      " 3   Member                   26269 non-null  float64\n",
      " 4   Total_rides              26269 non-null  float64\n",
      " 5   relativehumidity_2m (%)  26280 non-null  int64  \n",
      " 6   temperature_2m (°C)      26280 non-null  float64\n",
      " 7   weathercode (wmo code)   26280 non-null  int64  \n",
      " 8   windspeed_10m (km/h)     26280 non-null  float64\n",
      "dtypes: float64(5), int64(3), object(1)\n",
      "memory usage: 1.8+ MB\n"
     ]
    }
   ],
   "source": [
    "df_hourly_weather.info()"
   ]
  },
  {
   "cell_type": "markdown",
   "metadata": {},
   "source": [
    "### Check for Null Again"
   ]
  },
  {
   "cell_type": "code",
   "execution_count": 53,
   "metadata": {},
   "outputs": [
    {
     "data": {
      "text/plain": [
       "Casual                     11\n",
       "Date                        0\n",
       "Hour                        0\n",
       "Member                     11\n",
       "Total_rides                11\n",
       "relativehumidity_2m (%)     0\n",
       "temperature_2m (°C)         0\n",
       "weathercode (wmo code)      0\n",
       "windspeed_10m (km/h)        0\n",
       "dtype: int64"
      ]
     },
     "execution_count": 53,
     "metadata": {},
     "output_type": "execute_result"
    }
   ],
   "source": [
    "df_hourly_weather.isnull().sum()"
   ]
  },
  {
   "cell_type": "markdown",
   "metadata": {},
   "source": [
    "### Check Duplicates"
   ]
  },
  {
   "cell_type": "code",
   "execution_count": 54,
   "metadata": {},
   "outputs": [
    {
     "data": {
      "text/plain": [
       "np.int64(0)"
      ]
     },
     "execution_count": 54,
     "metadata": {},
     "output_type": "execute_result"
    }
   ],
   "source": [
    "df_hourly_weather.duplicated().sum()"
   ]
  },
  {
   "cell_type": "markdown",
   "metadata": {},
   "source": [
    "### Turn to lowercase no spaces"
   ]
  },
  {
   "cell_type": "code",
   "execution_count": 55,
   "metadata": {},
   "outputs": [
    {
     "data": {
      "text/plain": [
       "Index(['Casual', 'Date', 'Hour', 'Member', 'Total_rides',\n",
       "       'relativehumidity_2m (%)', 'temperature_2m (°C)',\n",
       "       'weathercode (wmo code)', 'windspeed_10m (km/h)'],\n",
       "      dtype='object')"
      ]
     },
     "execution_count": 55,
     "metadata": {},
     "output_type": "execute_result"
    }
   ],
   "source": [
    "df_hourly_weather.columns"
   ]
  },
  {
   "cell_type": "code",
   "execution_count": 56,
   "metadata": {},
   "outputs": [
    {
     "data": {
      "text/plain": [
       "Index(['casual', 'date', 'hour', 'member', 'total_rides',\n",
       "       'relativehumidity_2m_(%)', 'temperature_2m_(°c)',\n",
       "       'weathercode_(wmo code)', 'windspeed_10m (km/h)'],\n",
       "      dtype='object')"
      ]
     },
     "execution_count": 56,
     "metadata": {},
     "output_type": "execute_result"
    }
   ],
   "source": [
    "df_hourly_weather = df_hourly_weather.rename(str.lower, axis=1)\n",
    "df_hourly_weather = df_hourly_weather.rename(columns={'relativehumidity_2m (%)':'relativehumidity_2m_(%)','temperature_2m (°c)':'temperature_2m_(°c)', 'weathercode (wmo code)':'weathercode_(wmo code)', 'windspeed_10m_max (km/h)':'windspeed_10m_max_(km/h)' })\n",
    "df_hourly_weather.columns"
   ]
  },
  {
   "cell_type": "markdown",
   "metadata": {},
   "source": [
    "### Datetime"
   ]
  },
  {
   "cell_type": "code",
   "execution_count": 57,
   "metadata": {},
   "outputs": [
    {
     "name": "stdout",
     "output_type": "stream",
     "text": [
      "<class 'pandas.core.series.Series'>\n",
      "RangeIndex: 26280 entries, 0 to 26279\n",
      "Series name: date\n",
      "Non-Null Count  Dtype         \n",
      "--------------  -----         \n",
      "26280 non-null  datetime64[ns]\n",
      "dtypes: datetime64[ns](1)\n",
      "memory usage: 205.4 KB\n"
     ]
    }
   ],
   "source": [
    "df_hourly_weather['date'] = pd.to_datetime(df_hourly_weather['date'])\n",
    "df_hourly_weather['date'].info()"
   ]
  }
 ],
 "metadata": {
  "kernelspec": {
   "display_name": "MarcosPython10",
   "language": "python",
   "name": "python3"
  },
  "language_info": {
   "codemirror_mode": {
    "name": "ipython",
    "version": 3
   },
   "file_extension": ".py",
   "mimetype": "text/x-python",
   "name": "python",
   "nbconvert_exporter": "python",
   "pygments_lexer": "ipython3",
   "version": "3.10.18"
  }
 },
 "nbformat": 4,
 "nbformat_minor": 2
}
