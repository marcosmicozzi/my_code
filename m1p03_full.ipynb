{
 "cells": [
  {
   "cell_type": "markdown",
   "metadata": {},
   "source": [
    "# Importing Libraries"
   ]
  },
  {
   "cell_type": "code",
   "execution_count": 2,
   "metadata": {},
   "outputs": [],
   "source": [
    "import pandas as pd\n",
    "import numpy as np\n",
    "import matplotlib.pyplot as plt\n",
    "import matplotlib.ticker as ticker\n",
    "import seaborn as sns\n",
    "import holidays\n",
    "from datetime import date\n",
    "import geopandas as gpd\n",
    "from shapely.geometry import Point\n",
    "import folium\n",
    "\n"
   ]
  },
  {
   "cell_type": "markdown",
   "metadata": {},
   "source": [
    "# Read CSV"
   ]
  },
  {
   "cell_type": "code",
   "execution_count": 3,
   "metadata": {},
   "outputs": [
    {
     "name": "stderr",
     "output_type": "stream",
     "text": [
      "/var/folders/pm/7vn7thz14p556cr_ql9w5xbw0000gn/T/ipykernel_47497/3192347137.py:1: DtypeWarning: Columns (5,7) have mixed types. Specify dtype option on import or set low_memory=False.\n",
      "  df_full = pd.read_csv('/Users/kimberleybrown/Desktop/CODING_ALL/Code_Academy_Berlin/Module01/Module01_Project03/data_provided/CBS_2021-2023_Full.csv')\n"
     ]
    }
   ],
   "source": [
    "df_full = pd.read_csv('/Users/kimberleybrown/Desktop/CODING_ALL/Code_Academy_Berlin/Module01/Module01_Project03/data_provided/CBS_2021-2023_Full.csv')"
   ]
  },
  {
   "cell_type": "markdown",
   "metadata": {},
   "source": [
    "# SneakPeak Data"
   ]
  },
  {
   "cell_type": "markdown",
   "metadata": {},
   "source": [
    "## .head()"
   ]
  },
  {
   "cell_type": "code",
   "execution_count": 4,
   "metadata": {},
   "outputs": [
    {
     "name": "stdout",
     "output_type": "stream",
     "text": [
      "df_full\n",
      "            ride_id  rideable_type           started_at             ended_at  \\\n",
      "0  5CB9DFCECF79AF84   classic_bike  2021-01-01 00:08:33  2021-01-01 00:33:53   \n",
      "1  629E059504606547  electric_bike  2021-01-01 00:13:43  2021-01-01 00:29:34   \n",
      "2  E74069873161EE33  electric_bike  2021-01-01 00:14:32  2021-01-01 00:28:45   \n",
      "3  91F95E512CABC46A   classic_bike  2021-01-01 00:15:45  2021-01-01 00:21:20   \n",
      "4  DA46A05139C0EA2F   classic_bike  2021-01-01 00:17:46  2021-01-01 00:21:00   \n",
      "\n",
      "              start_station_name start_station_id  \\\n",
      "0          Maine Ave & 9th St SW          31646.0   \n",
      "1                 10th & U St NW          31111.0   \n",
      "2          17th & Corcoran St NW          31214.0   \n",
      "3  Wilson Blvd. & N. Vermont St.          31926.0   \n",
      "4              11th & Park Rd NW          31651.0   \n",
      "\n",
      "                           end_station_name end_station_id  start_lat  \\\n",
      "0  Rosslyn Metro / Wilson Blvd & Ft Myer Dr        31015.0  38.880440   \n",
      "1                                       NaN            NaN  38.917193   \n",
      "2                      14th & Belmont St NW        31119.0  38.912138   \n",
      "3             Wilson Blvd. & N. Vermont St.        31926.0  38.879477   \n",
      "4                       14th & Newton St NW        31649.0  38.931322   \n",
      "\n",
      "   start_lng    end_lat    end_lng member_casual  \n",
      "0 -77.025236  38.894600 -77.072305        member  \n",
      "1 -77.025894  38.960000 -77.020000        casual  \n",
      "2 -77.038568  38.920870 -77.031691        member  \n",
      "3 -77.114563  38.879477 -77.114563        member  \n",
      "4 -77.028247  38.931991 -77.032956        member  \n"
     ]
    }
   ],
   "source": [
    "print('df_full')\n",
    "print(df_full.head())\n"
   ]
  },
  {
   "cell_type": "markdown",
   "metadata": {},
   "source": [
    "## .columns"
   ]
  },
  {
   "cell_type": "code",
   "execution_count": 5,
   "metadata": {},
   "outputs": [
    {
     "name": "stdout",
     "output_type": "stream",
     "text": [
      "df_full\n",
      "Index(['ride_id', 'rideable_type', 'started_at', 'ended_at',\n",
      "       'start_station_name', 'start_station_id', 'end_station_name',\n",
      "       'end_station_id', 'start_lat', 'start_lng', 'end_lat', 'end_lng',\n",
      "       'member_casual'],\n",
      "      dtype='object')\n"
     ]
    }
   ],
   "source": [
    "print('df_full')\n",
    "print(df_full.columns)\n"
   ]
  },
  {
   "cell_type": "markdown",
   "metadata": {},
   "source": [
    "# ----------------------------------------------"
   ]
  },
  {
   "cell_type": "markdown",
   "metadata": {},
   "source": [
    "# Full CSV"
   ]
  },
  {
   "cell_type": "markdown",
   "metadata": {},
   "source": [
    "## Cleaning"
   ]
  },
  {
   "cell_type": "markdown",
   "metadata": {},
   "source": [
    "### Check for Null"
   ]
  },
  {
   "cell_type": "code",
   "execution_count": 6,
   "metadata": {},
   "outputs": [
    {
     "name": "stdout",
     "output_type": "stream",
     "text": [
      "<class 'pandas.core.frame.DataFrame'>\n",
      "RangeIndex: 10693997 entries, 0 to 10693996\n",
      "Data columns (total 13 columns):\n",
      " #   Column              Dtype  \n",
      "---  ------              -----  \n",
      " 0   ride_id             object \n",
      " 1   rideable_type       object \n",
      " 2   started_at          object \n",
      " 3   ended_at            object \n",
      " 4   start_station_name  object \n",
      " 5   start_station_id    object \n",
      " 6   end_station_name    object \n",
      " 7   end_station_id      object \n",
      " 8   start_lat           float64\n",
      " 9   start_lng           float64\n",
      " 10  end_lat             float64\n",
      " 11  end_lng             float64\n",
      " 12  member_casual       object \n",
      "dtypes: float64(4), object(9)\n",
      "memory usage: 1.0+ GB\n"
     ]
    }
   ],
   "source": [
    "df_full.info()"
   ]
  },
  {
   "cell_type": "markdown",
   "metadata": {},
   "source": [
    "### Check for Null again"
   ]
  },
  {
   "cell_type": "code",
   "execution_count": 7,
   "metadata": {},
   "outputs": [
    {
     "data": {
      "text/plain": [
       "ride_id                    0\n",
       "rideable_type              0\n",
       "started_at                 0\n",
       "ended_at                   0\n",
       "start_station_name    742776\n",
       "start_station_id      742776\n",
       "end_station_name      811282\n",
       "end_station_id        811282\n",
       "start_lat                  2\n",
       "start_lng                  2\n",
       "end_lat                16765\n",
       "end_lng                16765\n",
       "member_casual              0\n",
       "dtype: int64"
      ]
     },
     "execution_count": 7,
     "metadata": {},
     "output_type": "execute_result"
    }
   ],
   "source": [
    "df_full.isnull().sum()"
   ]
  },
  {
   "cell_type": "markdown",
   "metadata": {},
   "source": [
    "### Drop Nulls"
   ]
  },
  {
   "cell_type": "code",
   "execution_count": 8,
   "metadata": {},
   "outputs": [
    {
     "data": {
      "text/plain": [
       "ride_id               0\n",
       "rideable_type         0\n",
       "started_at            0\n",
       "ended_at              0\n",
       "start_station_name    0\n",
       "start_station_id      0\n",
       "end_station_name      0\n",
       "end_station_id        0\n",
       "start_lat             0\n",
       "start_lng             0\n",
       "end_lat               0\n",
       "end_lng               0\n",
       "member_casual         0\n",
       "dtype: int64"
      ]
     },
     "execution_count": 8,
     "metadata": {},
     "output_type": "execute_result"
    }
   ],
   "source": [
    "df_full = df_full.dropna()\n",
    "df_full.isnull().sum()"
   ]
  },
  {
   "cell_type": "markdown",
   "metadata": {},
   "source": [
    "### Check for duplicated"
   ]
  },
  {
   "cell_type": "code",
   "execution_count": 9,
   "metadata": {},
   "outputs": [
    {
     "data": {
      "text/plain": [
       "np.int64(0)"
      ]
     },
     "execution_count": 9,
     "metadata": {},
     "output_type": "execute_result"
    }
   ],
   "source": [
    "df_full.duplicated().sum()"
   ]
  },
  {
   "cell_type": "markdown",
   "metadata": {},
   "source": [
    "### Turn to lowerscase no space"
   ]
  },
  {
   "cell_type": "code",
   "execution_count": 10,
   "metadata": {},
   "outputs": [
    {
     "data": {
      "text/plain": [
       "Index(['ride_id', 'rideable_type', 'started_at', 'ended_at',\n",
       "       'start_station_name', 'start_station_id', 'end_station_name',\n",
       "       'end_station_id', 'start_lat', 'start_lng', 'end_lat', 'end_lng',\n",
       "       'member_casual'],\n",
       "      dtype='object')"
      ]
     },
     "execution_count": 10,
     "metadata": {},
     "output_type": "execute_result"
    }
   ],
   "source": [
    "df_full.columns"
   ]
  },
  {
   "cell_type": "code",
   "execution_count": 11,
   "metadata": {},
   "outputs": [
    {
     "data": {
      "text/html": [
       "<div>\n",
       "<style scoped>\n",
       "    .dataframe tbody tr th:only-of-type {\n",
       "        vertical-align: middle;\n",
       "    }\n",
       "\n",
       "    .dataframe tbody tr th {\n",
       "        vertical-align: top;\n",
       "    }\n",
       "\n",
       "    .dataframe thead th {\n",
       "        text-align: right;\n",
       "    }\n",
       "</style>\n",
       "<table border=\"1\" class=\"dataframe\">\n",
       "  <thead>\n",
       "    <tr style=\"text-align: right;\">\n",
       "      <th></th>\n",
       "      <th>ride_id</th>\n",
       "      <th>rideable_type</th>\n",
       "      <th>started_at</th>\n",
       "      <th>ended_at</th>\n",
       "      <th>start_station_name</th>\n",
       "      <th>start_station_id</th>\n",
       "      <th>end_station_name</th>\n",
       "      <th>end_station_id</th>\n",
       "      <th>start_lat</th>\n",
       "      <th>start_lng</th>\n",
       "      <th>end_lat</th>\n",
       "      <th>end_lng</th>\n",
       "      <th>member_casual</th>\n",
       "    </tr>\n",
       "  </thead>\n",
       "  <tbody>\n",
       "    <tr>\n",
       "      <th>0</th>\n",
       "      <td>5CB9DFCECF79AF84</td>\n",
       "      <td>classic_bike</td>\n",
       "      <td>2021-01-01 00:08:33</td>\n",
       "      <td>2021-01-01 00:33:53</td>\n",
       "      <td>Maine Ave &amp; 9th St SW</td>\n",
       "      <td>31646.0</td>\n",
       "      <td>Rosslyn Metro / Wilson Blvd &amp; Ft Myer Dr</td>\n",
       "      <td>31015.0</td>\n",
       "      <td>38.880440</td>\n",
       "      <td>-77.025236</td>\n",
       "      <td>38.894600</td>\n",
       "      <td>-77.072305</td>\n",
       "      <td>member</td>\n",
       "    </tr>\n",
       "    <tr>\n",
       "      <th>2</th>\n",
       "      <td>E74069873161EE33</td>\n",
       "      <td>electric_bike</td>\n",
       "      <td>2021-01-01 00:14:32</td>\n",
       "      <td>2021-01-01 00:28:45</td>\n",
       "      <td>17th &amp; Corcoran St NW</td>\n",
       "      <td>31214.0</td>\n",
       "      <td>14th &amp; Belmont St NW</td>\n",
       "      <td>31119.0</td>\n",
       "      <td>38.912138</td>\n",
       "      <td>-77.038568</td>\n",
       "      <td>38.920870</td>\n",
       "      <td>-77.031691</td>\n",
       "      <td>member</td>\n",
       "    </tr>\n",
       "    <tr>\n",
       "      <th>3</th>\n",
       "      <td>91F95E512CABC46A</td>\n",
       "      <td>classic_bike</td>\n",
       "      <td>2021-01-01 00:15:45</td>\n",
       "      <td>2021-01-01 00:21:20</td>\n",
       "      <td>Wilson Blvd. &amp; N. Vermont St.</td>\n",
       "      <td>31926.0</td>\n",
       "      <td>Wilson Blvd. &amp; N. Vermont St.</td>\n",
       "      <td>31926.0</td>\n",
       "      <td>38.879477</td>\n",
       "      <td>-77.114563</td>\n",
       "      <td>38.879477</td>\n",
       "      <td>-77.114563</td>\n",
       "      <td>member</td>\n",
       "    </tr>\n",
       "    <tr>\n",
       "      <th>4</th>\n",
       "      <td>DA46A05139C0EA2F</td>\n",
       "      <td>classic_bike</td>\n",
       "      <td>2021-01-01 00:17:46</td>\n",
       "      <td>2021-01-01 00:21:00</td>\n",
       "      <td>11th &amp; Park Rd NW</td>\n",
       "      <td>31651.0</td>\n",
       "      <td>14th &amp; Newton St NW</td>\n",
       "      <td>31649.0</td>\n",
       "      <td>38.931322</td>\n",
       "      <td>-77.028247</td>\n",
       "      <td>38.931991</td>\n",
       "      <td>-77.032956</td>\n",
       "      <td>member</td>\n",
       "    </tr>\n",
       "    <tr>\n",
       "      <th>6</th>\n",
       "      <td>0535306B61EF92F9</td>\n",
       "      <td>classic_bike</td>\n",
       "      <td>2021-01-01 00:19:06</td>\n",
       "      <td>2021-01-01 00:36:28</td>\n",
       "      <td>Bladensburg Rd &amp; Benning Rd NE</td>\n",
       "      <td>31617.0</td>\n",
       "      <td>Good Hope Rd &amp; MLK Ave SE</td>\n",
       "      <td>31802.0</td>\n",
       "      <td>38.900413</td>\n",
       "      <td>-76.982872</td>\n",
       "      <td>38.867373</td>\n",
       "      <td>-76.988039</td>\n",
       "      <td>casual</td>\n",
       "    </tr>\n",
       "  </tbody>\n",
       "</table>\n",
       "</div>"
      ],
      "text/plain": [
       "            ride_id  rideable_type           started_at             ended_at  \\\n",
       "0  5CB9DFCECF79AF84   classic_bike  2021-01-01 00:08:33  2021-01-01 00:33:53   \n",
       "2  E74069873161EE33  electric_bike  2021-01-01 00:14:32  2021-01-01 00:28:45   \n",
       "3  91F95E512CABC46A   classic_bike  2021-01-01 00:15:45  2021-01-01 00:21:20   \n",
       "4  DA46A05139C0EA2F   classic_bike  2021-01-01 00:17:46  2021-01-01 00:21:00   \n",
       "6  0535306B61EF92F9   classic_bike  2021-01-01 00:19:06  2021-01-01 00:36:28   \n",
       "\n",
       "               start_station_name start_station_id  \\\n",
       "0           Maine Ave & 9th St SW          31646.0   \n",
       "2           17th & Corcoran St NW          31214.0   \n",
       "3   Wilson Blvd. & N. Vermont St.          31926.0   \n",
       "4               11th & Park Rd NW          31651.0   \n",
       "6  Bladensburg Rd & Benning Rd NE          31617.0   \n",
       "\n",
       "                           end_station_name end_station_id  start_lat  \\\n",
       "0  Rosslyn Metro / Wilson Blvd & Ft Myer Dr        31015.0  38.880440   \n",
       "2                      14th & Belmont St NW        31119.0  38.912138   \n",
       "3             Wilson Blvd. & N. Vermont St.        31926.0  38.879477   \n",
       "4                       14th & Newton St NW        31649.0  38.931322   \n",
       "6                 Good Hope Rd & MLK Ave SE        31802.0  38.900413   \n",
       "\n",
       "   start_lng    end_lat    end_lng member_casual  \n",
       "0 -77.025236  38.894600 -77.072305        member  \n",
       "2 -77.038568  38.920870 -77.031691        member  \n",
       "3 -77.114563  38.879477 -77.114563        member  \n",
       "4 -77.028247  38.931991 -77.032956        member  \n",
       "6 -76.982872  38.867373 -76.988039        casual  "
      ]
     },
     "execution_count": 11,
     "metadata": {},
     "output_type": "execute_result"
    }
   ],
   "source": [
    "df_full.head()"
   ]
  },
  {
   "cell_type": "markdown",
   "metadata": {},
   "source": [
    "### Datetime"
   ]
  },
  {
   "cell_type": "code",
   "execution_count": 12,
   "metadata": {},
   "outputs": [
    {
     "name": "stdout",
     "output_type": "stream",
     "text": [
      "<class 'pandas.core.series.Series'>\n",
      "Index: 9572692 entries, 0 to 10693995\n",
      "Series name: started_at\n",
      "Non-Null Count    Dtype         \n",
      "--------------    -----         \n",
      "9572692 non-null  datetime64[ns]\n",
      "dtypes: datetime64[ns](1)\n",
      "memory usage: 146.1 MB\n",
      "None\n",
      "<class 'pandas.core.series.Series'>\n",
      "Index: 9572692 entries, 0 to 10693995\n",
      "Series name: ended_at\n",
      "Non-Null Count    Dtype         \n",
      "--------------    -----         \n",
      "9572692 non-null  datetime64[ns]\n",
      "dtypes: datetime64[ns](1)\n",
      "memory usage: 146.1 MB\n",
      "None\n"
     ]
    }
   ],
   "source": [
    "df_full['started_at'] = pd.to_datetime(df_full['started_at'])\n",
    "df_full['ended_at'] = pd.to_datetime(df_full['ended_at'])\n",
    "print(df_full['started_at'].info())\n",
    "print(df_full['ended_at'].info())\n",
    "\n",
    "df_full['year'] = df_full['started_at'].dt.year\n",
    "df_full['month'] = df_full['started_at'].dt.month\n",
    "df_full['weekday'] = df_full['started_at'].dt.day_name()\n",
    "\n",
    "weekday_order = ['Monday', 'Tuesday', 'Wednesday', 'Thursday', 'Friday', 'Saturday', 'Sunday']\n",
    "df_full['weekday'] = pd.Categorical(df_full['weekday'], categories=weekday_order, ordered=True)\n"
   ]
  },
  {
   "cell_type": "markdown",
   "metadata": {},
   "source": [
    "### Weekday / Weekend"
   ]
  },
  {
   "cell_type": "code",
   "execution_count": 13,
   "metadata": {},
   "outputs": [
    {
     "data": {
      "text/plain": [
       "0           Weekday\n",
       "2           Weekday\n",
       "3           Weekday\n",
       "4           Weekday\n",
       "6           Weekday\n",
       "             ...   \n",
       "10693991    Weekend\n",
       "10693992    Weekend\n",
       "10693993    Weekend\n",
       "10693994    Weekend\n",
       "10693995    Weekend\n",
       "Name: day_type, Length: 9572692, dtype: object"
      ]
     },
     "execution_count": 13,
     "metadata": {},
     "output_type": "execute_result"
    }
   ],
   "source": [
    "\n",
    "df_full['day_type'] = df_full['weekday'].apply(\n",
    "    lambda x: 'Weekend' if x in ['Saturday', 'Sunday'] else 'Weekday')\n",
    "\n",
    "df_full['day_type']\n"
   ]
  },
  {
   "cell_type": "markdown",
   "metadata": {},
   "source": [
    "### Holiday"
   ]
  },
  {
   "cell_type": "code",
   "execution_count": 14,
   "metadata": {},
   "outputs": [
    {
     "name": "stdout",
     "output_type": "stream",
     "text": [
      "True\n",
      "Independence Day\n",
      "[2021 2022 2023]\n",
      "In 2021 there were 3 weekend days that were holidays\n",
      "In 2022 there were 3 weekend days that were holidays\n",
      "In 2023 there were 2 weekend days that were holidays\n"
     ]
    }
   ],
   "source": [
    "# Define custom WA state holidays (if needed)\n",
    "wa_holidays = holidays.US()\n",
    "# Add any Washington-specific ones manually\n",
    "wa_holidays.append({date(2025, 4, 16): \"Washington State Holiday Example\"})\n",
    "\n",
    "# Check if a date is a holiday\n",
    "print(date(2025, 7, 4) in wa_holidays)  # True (Independence Day)\n",
    "print(wa_holidays.get(date(2025, 7, 4)))  # 'Independence Day'\n",
    "\n",
    "df_full['holiday'] = df_full['started_at'].dt.date.apply(lambda holiday: 1 if holiday in wa_holidays else 0)\n",
    "\n",
    "df_full['is_holiday'] = df_full['holiday'].map({0: 'No', 1: 'Yes'})\n",
    "print(df_full['year'].unique())\n",
    "\n",
    "#Check year 2021\n",
    "\n",
    "df_full_weather_2021 = df_full[df_full['year'] == 2021].copy()\n",
    "df_full_weather_2021.loc[:,'weekday_num'] = df_full_weather_2021['started_at'].dt.weekday\n",
    "weekend_rows_2021 = df_full_weather_2021[df_full_weather_2021['weekday_num'] >= 5]\n",
    "\n",
    "holiday_dates_weekend2021 = weekend_rows_2021[weekend_rows_2021['holiday'] == 1]['started_at'].dt.date.unique()\n",
    "print(f\"In 2021 there were {len(holiday_dates_weekend2021)} weekend days that were holidays\")\n",
    "\n",
    "#Check year 2022\n",
    "df_full_weather_2022 = df_full[df_full['year'] == 2022].copy()\n",
    "df_full_weather_2022.loc[:,'weekday_num'] = df_full_weather_2022['started_at'].dt.weekday\n",
    "weekend_rows_2022 = df_full_weather_2022[df_full_weather_2022['weekday_num'] >= 5]\n",
    "\n",
    "holiday_dates_weekend2022 = weekend_rows_2022[weekend_rows_2022['holiday'] == 1]['started_at'].dt.date.unique()\n",
    "print(f\"In 2022 there were {len(holiday_dates_weekend2022)} weekend days that were holidays\")\n",
    "\n",
    "#Check year 2023\n",
    "df_full_weather_2023 = df_full[df_full['year'] == 2023].copy()\n",
    "df_full_weather_2023.loc[:,'weekday_num'] = df_full_weather_2023['started_at'].dt.weekday\n",
    "weekend_rows_2023 = df_full_weather_2023[df_full_weather_2023['weekday_num'] >= 5]\n",
    "\n",
    "holiday_dates_weekend2023 = weekend_rows_2023[weekend_rows_2023['holiday'] == 1]['started_at'].dt.date.unique()\n",
    "print(f\"In 2023 there were {len(holiday_dates_weekend2023)} weekend days that were holidays\")\n",
    "\n",
    "\n",
    "\n",
    "\n"
   ]
  },
  {
   "cell_type": "markdown",
   "metadata": {},
   "source": [
    "### Season CHECK !!"
   ]
  },
  {
   "cell_type": "code",
   "execution_count": 15,
   "metadata": {},
   "outputs": [
    {
     "data": {
      "text/plain": [
       "np.int64(0)"
      ]
     },
     "execution_count": 15,
     "metadata": {},
     "output_type": "execute_result"
    }
   ],
   "source": [
    "def get_season(date):\n",
    "    month = date.month\n",
    "    day = date.day\n",
    "\n",
    "    if (month == 12 and day >= 21) or (month in [1, 2]) or (month == 3 and day < 20):\n",
    "        return 1\n",
    "    elif (month == 3 and day >= 20) or (month in [4, 5]) or (month == 6 and day < 21):\n",
    "        return 2\n",
    "    elif (month == 6 and day >= 21) or (month in [7, 8]) or (month == 9 and day < 23):\n",
    "        return 3\n",
    "    else:\n",
    "        return 4\n",
    "\n",
    "df_full['season'] = df_full['started_at'].apply(get_season)\n",
    "\n",
    "df_full.loc[df_full['season'] == 1, 'season_name'] = 'Winter'\n",
    "df_full.loc[df_full['season'] == 2, 'season_name'] = 'Spring'\n",
    "df_full.loc[df_full['season'] == 3, 'season_name'] = 'Summer'\n",
    "df_full.loc[df_full['season'] == 4, 'season_name'] = 'Fall'\n",
    "\n",
    "\n",
    "\n",
    "df_full['season'].isnull().sum()"
   ]
  },
  {
   "cell_type": "markdown",
   "metadata": {},
   "source": [
    "### Weather"
   ]
  },
  {
   "cell_type": "code",
   "execution_count": 16,
   "metadata": {},
   "outputs": [
    {
     "data": {
      "text/html": [
       "<div>\n",
       "<style scoped>\n",
       "    .dataframe tbody tr th:only-of-type {\n",
       "        vertical-align: middle;\n",
       "    }\n",
       "\n",
       "    .dataframe tbody tr th {\n",
       "        vertical-align: top;\n",
       "    }\n",
       "\n",
       "    .dataframe thead th {\n",
       "        text-align: right;\n",
       "    }\n",
       "</style>\n",
       "<table border=\"1\" class=\"dataframe\">\n",
       "  <thead>\n",
       "    <tr style=\"text-align: right;\">\n",
       "      <th></th>\n",
       "      <th>ride_id</th>\n",
       "      <th>rideable_type</th>\n",
       "      <th>started_at</th>\n",
       "      <th>ended_at</th>\n",
       "      <th>start_station_name</th>\n",
       "      <th>start_station_id</th>\n",
       "      <th>end_station_name</th>\n",
       "      <th>end_station_id</th>\n",
       "      <th>start_lat</th>\n",
       "      <th>start_lng</th>\n",
       "      <th>...</th>\n",
       "      <th>end_lng</th>\n",
       "      <th>member_casual</th>\n",
       "      <th>year</th>\n",
       "      <th>month</th>\n",
       "      <th>weekday</th>\n",
       "      <th>day_type</th>\n",
       "      <th>holiday</th>\n",
       "      <th>is_holiday</th>\n",
       "      <th>season</th>\n",
       "      <th>season_name</th>\n",
       "    </tr>\n",
       "  </thead>\n",
       "  <tbody>\n",
       "    <tr>\n",
       "      <th>0</th>\n",
       "      <td>5CB9DFCECF79AF84</td>\n",
       "      <td>classic_bike</td>\n",
       "      <td>2021-01-01 00:08:33</td>\n",
       "      <td>2021-01-01 00:33:53</td>\n",
       "      <td>Maine Ave &amp; 9th St SW</td>\n",
       "      <td>31646.0</td>\n",
       "      <td>Rosslyn Metro / Wilson Blvd &amp; Ft Myer Dr</td>\n",
       "      <td>31015.0</td>\n",
       "      <td>38.880440</td>\n",
       "      <td>-77.025236</td>\n",
       "      <td>...</td>\n",
       "      <td>-77.072305</td>\n",
       "      <td>member</td>\n",
       "      <td>2021</td>\n",
       "      <td>1</td>\n",
       "      <td>Friday</td>\n",
       "      <td>Weekday</td>\n",
       "      <td>1</td>\n",
       "      <td>Yes</td>\n",
       "      <td>1</td>\n",
       "      <td>Winter</td>\n",
       "    </tr>\n",
       "    <tr>\n",
       "      <th>2</th>\n",
       "      <td>E74069873161EE33</td>\n",
       "      <td>electric_bike</td>\n",
       "      <td>2021-01-01 00:14:32</td>\n",
       "      <td>2021-01-01 00:28:45</td>\n",
       "      <td>17th &amp; Corcoran St NW</td>\n",
       "      <td>31214.0</td>\n",
       "      <td>14th &amp; Belmont St NW</td>\n",
       "      <td>31119.0</td>\n",
       "      <td>38.912138</td>\n",
       "      <td>-77.038568</td>\n",
       "      <td>...</td>\n",
       "      <td>-77.031691</td>\n",
       "      <td>member</td>\n",
       "      <td>2021</td>\n",
       "      <td>1</td>\n",
       "      <td>Friday</td>\n",
       "      <td>Weekday</td>\n",
       "      <td>1</td>\n",
       "      <td>Yes</td>\n",
       "      <td>1</td>\n",
       "      <td>Winter</td>\n",
       "    </tr>\n",
       "    <tr>\n",
       "      <th>3</th>\n",
       "      <td>91F95E512CABC46A</td>\n",
       "      <td>classic_bike</td>\n",
       "      <td>2021-01-01 00:15:45</td>\n",
       "      <td>2021-01-01 00:21:20</td>\n",
       "      <td>Wilson Blvd. &amp; N. Vermont St.</td>\n",
       "      <td>31926.0</td>\n",
       "      <td>Wilson Blvd. &amp; N. Vermont St.</td>\n",
       "      <td>31926.0</td>\n",
       "      <td>38.879477</td>\n",
       "      <td>-77.114563</td>\n",
       "      <td>...</td>\n",
       "      <td>-77.114563</td>\n",
       "      <td>member</td>\n",
       "      <td>2021</td>\n",
       "      <td>1</td>\n",
       "      <td>Friday</td>\n",
       "      <td>Weekday</td>\n",
       "      <td>1</td>\n",
       "      <td>Yes</td>\n",
       "      <td>1</td>\n",
       "      <td>Winter</td>\n",
       "    </tr>\n",
       "    <tr>\n",
       "      <th>4</th>\n",
       "      <td>DA46A05139C0EA2F</td>\n",
       "      <td>classic_bike</td>\n",
       "      <td>2021-01-01 00:17:46</td>\n",
       "      <td>2021-01-01 00:21:00</td>\n",
       "      <td>11th &amp; Park Rd NW</td>\n",
       "      <td>31651.0</td>\n",
       "      <td>14th &amp; Newton St NW</td>\n",
       "      <td>31649.0</td>\n",
       "      <td>38.931322</td>\n",
       "      <td>-77.028247</td>\n",
       "      <td>...</td>\n",
       "      <td>-77.032956</td>\n",
       "      <td>member</td>\n",
       "      <td>2021</td>\n",
       "      <td>1</td>\n",
       "      <td>Friday</td>\n",
       "      <td>Weekday</td>\n",
       "      <td>1</td>\n",
       "      <td>Yes</td>\n",
       "      <td>1</td>\n",
       "      <td>Winter</td>\n",
       "    </tr>\n",
       "    <tr>\n",
       "      <th>6</th>\n",
       "      <td>0535306B61EF92F9</td>\n",
       "      <td>classic_bike</td>\n",
       "      <td>2021-01-01 00:19:06</td>\n",
       "      <td>2021-01-01 00:36:28</td>\n",
       "      <td>Bladensburg Rd &amp; Benning Rd NE</td>\n",
       "      <td>31617.0</td>\n",
       "      <td>Good Hope Rd &amp; MLK Ave SE</td>\n",
       "      <td>31802.0</td>\n",
       "      <td>38.900413</td>\n",
       "      <td>-76.982872</td>\n",
       "      <td>...</td>\n",
       "      <td>-76.988039</td>\n",
       "      <td>casual</td>\n",
       "      <td>2021</td>\n",
       "      <td>1</td>\n",
       "      <td>Friday</td>\n",
       "      <td>Weekday</td>\n",
       "      <td>1</td>\n",
       "      <td>Yes</td>\n",
       "      <td>1</td>\n",
       "      <td>Winter</td>\n",
       "    </tr>\n",
       "  </tbody>\n",
       "</table>\n",
       "<p>5 rows × 21 columns</p>\n",
       "</div>"
      ],
      "text/plain": [
       "            ride_id  rideable_type          started_at            ended_at  \\\n",
       "0  5CB9DFCECF79AF84   classic_bike 2021-01-01 00:08:33 2021-01-01 00:33:53   \n",
       "2  E74069873161EE33  electric_bike 2021-01-01 00:14:32 2021-01-01 00:28:45   \n",
       "3  91F95E512CABC46A   classic_bike 2021-01-01 00:15:45 2021-01-01 00:21:20   \n",
       "4  DA46A05139C0EA2F   classic_bike 2021-01-01 00:17:46 2021-01-01 00:21:00   \n",
       "6  0535306B61EF92F9   classic_bike 2021-01-01 00:19:06 2021-01-01 00:36:28   \n",
       "\n",
       "               start_station_name start_station_id  \\\n",
       "0           Maine Ave & 9th St SW          31646.0   \n",
       "2           17th & Corcoran St NW          31214.0   \n",
       "3   Wilson Blvd. & N. Vermont St.          31926.0   \n",
       "4               11th & Park Rd NW          31651.0   \n",
       "6  Bladensburg Rd & Benning Rd NE          31617.0   \n",
       "\n",
       "                           end_station_name end_station_id  start_lat  \\\n",
       "0  Rosslyn Metro / Wilson Blvd & Ft Myer Dr        31015.0  38.880440   \n",
       "2                      14th & Belmont St NW        31119.0  38.912138   \n",
       "3             Wilson Blvd. & N. Vermont St.        31926.0  38.879477   \n",
       "4                       14th & Newton St NW        31649.0  38.931322   \n",
       "6                 Good Hope Rd & MLK Ave SE        31802.0  38.900413   \n",
       "\n",
       "   start_lng  ...    end_lng  member_casual  year  month  weekday day_type  \\\n",
       "0 -77.025236  ... -77.072305         member  2021      1   Friday  Weekday   \n",
       "2 -77.038568  ... -77.031691         member  2021      1   Friday  Weekday   \n",
       "3 -77.114563  ... -77.114563         member  2021      1   Friday  Weekday   \n",
       "4 -77.028247  ... -77.032956         member  2021      1   Friday  Weekday   \n",
       "6 -76.982872  ... -76.988039         casual  2021      1   Friday  Weekday   \n",
       "\n",
       "  holiday  is_holiday season  season_name  \n",
       "0       1         Yes      1       Winter  \n",
       "2       1         Yes      1       Winter  \n",
       "3       1         Yes      1       Winter  \n",
       "4       1         Yes      1       Winter  \n",
       "6       1         Yes      1       Winter  \n",
       "\n",
       "[5 rows x 21 columns]"
      ]
     },
     "execution_count": 16,
     "metadata": {},
     "output_type": "execute_result"
    }
   ],
   "source": [
    "df_full.head()"
   ]
  },
  {
   "cell_type": "markdown",
   "metadata": {},
   "source": [
    "### Time and Date Separate"
   ]
  },
  {
   "cell_type": "code",
   "execution_count": 17,
   "metadata": {},
   "outputs": [],
   "source": [
    "# I wanted to separate time and date and fidn a way to wrap aroudn time but realised that you cant have time without date. \n"
   ]
  },
  {
   "cell_type": "markdown",
   "metadata": {},
   "source": [
    "### Ride Length"
   ]
  },
  {
   "cell_type": "code",
   "execution_count": 18,
   "metadata": {},
   "outputs": [],
   "source": [
    "# Find a pattern in this mistake. \n",
    "# This could be one of the targets of our talk, to fix their accuracy. \n",
    "# Is it all in the same geolocation? What is the similarity between all of these negative ones. "
   ]
  },
  {
   "cell_type": "code",
   "execution_count": 19,
   "metadata": {},
   "outputs": [],
   "source": [
    "# I had 385 negative numbers so I decided to drop them as it is not significant given the size of our data. "
   ]
  },
  {
   "cell_type": "code",
   "execution_count": 20,
   "metadata": {},
   "outputs": [
    {
     "name": "stdout",
     "output_type": "stream",
     "text": [
      "Number of rides crossing midnight or with negative duration: 385\n"
     ]
    }
   ],
   "source": [
    "cross_midnight = df_full[df_full['ended_at'] < df_full['started_at']]\n",
    "print(f\"Number of rides crossing midnight or with negative duration: {len(cross_midnight)}\")\n",
    "\n",
    "df_full = df_full.drop(cross_midnight.index)\n",
    "# print(cross_midnight[['started_at', 'ended_at', 'ride_duration_min']].head(10))\n",
    "\n"
   ]
  },
  {
   "cell_type": "code",
   "execution_count": 21,
   "metadata": {},
   "outputs": [
    {
     "name": "stdout",
     "output_type": "stream",
     "text": [
      "Min duration (minutes): 0.0\n",
      "Max duration (minutes): 54540.47\n",
      "Median duration (minutes): 11.55\n"
     ]
    }
   ],
   "source": [
    "df_full['ride_duration_min'] = df_full['ended_at'] - df_full['started_at']\n",
    "df_full['ride_duration_min'] = (df_full['ride_duration_min'].dt.total_seconds() / 60).round(2)\n",
    "df_full['ride_duration_min']\n",
    "\n",
    "print(\"Min duration (minutes):\", df_full['ride_duration_min'].min())\n",
    "print(\"Max duration (minutes):\", df_full['ride_duration_min'].max())\n",
    "print(\"Median duration (minutes):\", df_full['ride_duration_min'].median())"
   ]
  },
  {
   "cell_type": "markdown",
   "metadata": {},
   "source": [
    "### Ride Length Outliers"
   ]
  },
  {
   "cell_type": "code",
   "execution_count": 22,
   "metadata": {},
   "outputs": [
    {
     "name": "stdout",
     "output_type": "stream",
     "text": [
      "Q1 (25th percentile): 6.7\n",
      "Q3 (75th percentile): 20.28\n",
      "Lower bound: -13.670000000000005\n",
      "Upper bound: 40.650000000000006\n"
     ]
    }
   ],
   "source": [
    "Q1 = df_full['ride_duration_min'].quantile(0.25)\n",
    "Q3 = df_full['ride_duration_min'].quantile(0.75)\n",
    "\n",
    "print(\"Q1 (25th percentile):\", Q1)\n",
    "print(\"Q3 (75th percentile):\", Q3)\n",
    "\n",
    "IQR = Q3 - Q1\n",
    "lower_bound = Q1 - 1.5 * IQR\n",
    "upper_bound = Q3 + 1.5 * IQR\n",
    "upper_bound_updated = 120\n",
    "\n",
    "print(\"Lower bound:\", lower_bound)\n",
    "print(\"Upper bound:\", upper_bound)"
   ]
  },
  {
   "cell_type": "code",
   "execution_count": 23,
   "metadata": {},
   "outputs": [
    {
     "name": "stdout",
     "output_type": "stream",
     "text": [
      "118726\n",
      "count    118726.000000\n",
      "mean        354.749374\n",
      "std        1233.299364\n",
      "min         120.020000\n",
      "25%         136.280000\n",
      "50%         162.430000\n",
      "75%         232.720000\n",
      "max       54540.470000\n",
      "Name: ride_duration_min, dtype: float64\n"
     ]
    }
   ],
   "source": [
    "outliers = df_full[df_full['ride_duration_min'] > upper_bound_updated]\n",
    "print(len(outliers))\n",
    "print(outliers['ride_duration_min'].describe())"
   ]
  },
  {
   "cell_type": "code",
   "execution_count": 24,
   "metadata": {},
   "outputs": [
    {
     "name": "stdout",
     "output_type": "stream",
     "text": [
      "Number of rides between 40 and 120 minutes: 80045\n"
     ]
    }
   ],
   "source": [
    "between_40_and_120 = df_full[(df_full['ride_duration_min'] > 120) & (df_full['ride_duration_min'] <= 200)]\n",
    "print(f\"Number of rides between 40 and 120 minutes: {len(between_40_and_120)}\")"
   ]
  },
  {
   "cell_type": "code",
   "execution_count": 25,
   "metadata": {},
   "outputs": [],
   "source": [
    "df_full = df_full[df_full['ride_duration_min'] <= upper_bound_updated]"
   ]
  },
  {
   "cell_type": "code",
   "execution_count": 26,
   "metadata": {},
   "outputs": [
    {
     "name": "stdout",
     "output_type": "stream",
     "text": [
      "Min duration (minutes): 0.0\n",
      "Max duration (minutes): 120.0\n",
      "Median duration (minutes): 11.42\n"
     ]
    }
   ],
   "source": [
    "df_full['ride_duration_min'] = df_full['ended_at'] - df_full['started_at']\n",
    "df_full['ride_duration_min'] = (df_full['ride_duration_min'].dt.total_seconds() / 60).round(2)\n",
    "df_full['ride_duration_min']\n",
    "\n",
    "print(\"Min duration (minutes):\", df_full['ride_duration_min'].min())\n",
    "print(\"Max duration (minutes):\", df_full['ride_duration_min'].max())\n",
    "print(\"Median duration (minutes):\", df_full['ride_duration_min'].median())"
   ]
  },
  {
   "cell_type": "markdown",
   "metadata": {},
   "source": [
    "### GeoData"
   ]
  },
  {
   "cell_type": "code",
   "execution_count": 27,
   "metadata": {},
   "outputs": [
    {
     "data": {
      "text/html": [
       "<div>\n",
       "<style scoped>\n",
       "    .dataframe tbody tr th:only-of-type {\n",
       "        vertical-align: middle;\n",
       "    }\n",
       "\n",
       "    .dataframe tbody tr th {\n",
       "        vertical-align: top;\n",
       "    }\n",
       "\n",
       "    .dataframe thead th {\n",
       "        text-align: right;\n",
       "    }\n",
       "</style>\n",
       "<table border=\"1\" class=\"dataframe\">\n",
       "  <thead>\n",
       "    <tr style=\"text-align: right;\">\n",
       "      <th></th>\n",
       "      <th>ride_id</th>\n",
       "      <th>rideable_type</th>\n",
       "      <th>started_at</th>\n",
       "      <th>ended_at</th>\n",
       "      <th>start_station_name</th>\n",
       "      <th>start_station_id</th>\n",
       "      <th>end_station_name</th>\n",
       "      <th>end_station_id</th>\n",
       "      <th>start_lat</th>\n",
       "      <th>start_lng</th>\n",
       "      <th>...</th>\n",
       "      <th>member_casual</th>\n",
       "      <th>year</th>\n",
       "      <th>month</th>\n",
       "      <th>weekday</th>\n",
       "      <th>day_type</th>\n",
       "      <th>holiday</th>\n",
       "      <th>is_holiday</th>\n",
       "      <th>season</th>\n",
       "      <th>season_name</th>\n",
       "      <th>ride_duration_min</th>\n",
       "    </tr>\n",
       "  </thead>\n",
       "  <tbody>\n",
       "    <tr>\n",
       "      <th>0</th>\n",
       "      <td>5CB9DFCECF79AF84</td>\n",
       "      <td>classic_bike</td>\n",
       "      <td>2021-01-01 00:08:33</td>\n",
       "      <td>2021-01-01 00:33:53</td>\n",
       "      <td>Maine Ave &amp; 9th St SW</td>\n",
       "      <td>31646.0</td>\n",
       "      <td>Rosslyn Metro / Wilson Blvd &amp; Ft Myer Dr</td>\n",
       "      <td>31015.0</td>\n",
       "      <td>38.880440</td>\n",
       "      <td>-77.025236</td>\n",
       "      <td>...</td>\n",
       "      <td>member</td>\n",
       "      <td>2021</td>\n",
       "      <td>1</td>\n",
       "      <td>Friday</td>\n",
       "      <td>Weekday</td>\n",
       "      <td>1</td>\n",
       "      <td>Yes</td>\n",
       "      <td>1</td>\n",
       "      <td>Winter</td>\n",
       "      <td>25.33</td>\n",
       "    </tr>\n",
       "    <tr>\n",
       "      <th>2</th>\n",
       "      <td>E74069873161EE33</td>\n",
       "      <td>electric_bike</td>\n",
       "      <td>2021-01-01 00:14:32</td>\n",
       "      <td>2021-01-01 00:28:45</td>\n",
       "      <td>17th &amp; Corcoran St NW</td>\n",
       "      <td>31214.0</td>\n",
       "      <td>14th &amp; Belmont St NW</td>\n",
       "      <td>31119.0</td>\n",
       "      <td>38.912138</td>\n",
       "      <td>-77.038568</td>\n",
       "      <td>...</td>\n",
       "      <td>member</td>\n",
       "      <td>2021</td>\n",
       "      <td>1</td>\n",
       "      <td>Friday</td>\n",
       "      <td>Weekday</td>\n",
       "      <td>1</td>\n",
       "      <td>Yes</td>\n",
       "      <td>1</td>\n",
       "      <td>Winter</td>\n",
       "      <td>14.22</td>\n",
       "    </tr>\n",
       "    <tr>\n",
       "      <th>3</th>\n",
       "      <td>91F95E512CABC46A</td>\n",
       "      <td>classic_bike</td>\n",
       "      <td>2021-01-01 00:15:45</td>\n",
       "      <td>2021-01-01 00:21:20</td>\n",
       "      <td>Wilson Blvd. &amp; N. Vermont St.</td>\n",
       "      <td>31926.0</td>\n",
       "      <td>Wilson Blvd. &amp; N. Vermont St.</td>\n",
       "      <td>31926.0</td>\n",
       "      <td>38.879477</td>\n",
       "      <td>-77.114563</td>\n",
       "      <td>...</td>\n",
       "      <td>member</td>\n",
       "      <td>2021</td>\n",
       "      <td>1</td>\n",
       "      <td>Friday</td>\n",
       "      <td>Weekday</td>\n",
       "      <td>1</td>\n",
       "      <td>Yes</td>\n",
       "      <td>1</td>\n",
       "      <td>Winter</td>\n",
       "      <td>5.58</td>\n",
       "    </tr>\n",
       "    <tr>\n",
       "      <th>4</th>\n",
       "      <td>DA46A05139C0EA2F</td>\n",
       "      <td>classic_bike</td>\n",
       "      <td>2021-01-01 00:17:46</td>\n",
       "      <td>2021-01-01 00:21:00</td>\n",
       "      <td>11th &amp; Park Rd NW</td>\n",
       "      <td>31651.0</td>\n",
       "      <td>14th &amp; Newton St NW</td>\n",
       "      <td>31649.0</td>\n",
       "      <td>38.931322</td>\n",
       "      <td>-77.028247</td>\n",
       "      <td>...</td>\n",
       "      <td>member</td>\n",
       "      <td>2021</td>\n",
       "      <td>1</td>\n",
       "      <td>Friday</td>\n",
       "      <td>Weekday</td>\n",
       "      <td>1</td>\n",
       "      <td>Yes</td>\n",
       "      <td>1</td>\n",
       "      <td>Winter</td>\n",
       "      <td>3.23</td>\n",
       "    </tr>\n",
       "    <tr>\n",
       "      <th>6</th>\n",
       "      <td>0535306B61EF92F9</td>\n",
       "      <td>classic_bike</td>\n",
       "      <td>2021-01-01 00:19:06</td>\n",
       "      <td>2021-01-01 00:36:28</td>\n",
       "      <td>Bladensburg Rd &amp; Benning Rd NE</td>\n",
       "      <td>31617.0</td>\n",
       "      <td>Good Hope Rd &amp; MLK Ave SE</td>\n",
       "      <td>31802.0</td>\n",
       "      <td>38.900413</td>\n",
       "      <td>-76.982872</td>\n",
       "      <td>...</td>\n",
       "      <td>casual</td>\n",
       "      <td>2021</td>\n",
       "      <td>1</td>\n",
       "      <td>Friday</td>\n",
       "      <td>Weekday</td>\n",
       "      <td>1</td>\n",
       "      <td>Yes</td>\n",
       "      <td>1</td>\n",
       "      <td>Winter</td>\n",
       "      <td>17.37</td>\n",
       "    </tr>\n",
       "  </tbody>\n",
       "</table>\n",
       "<p>5 rows × 22 columns</p>\n",
       "</div>"
      ],
      "text/plain": [
       "            ride_id  rideable_type          started_at            ended_at  \\\n",
       "0  5CB9DFCECF79AF84   classic_bike 2021-01-01 00:08:33 2021-01-01 00:33:53   \n",
       "2  E74069873161EE33  electric_bike 2021-01-01 00:14:32 2021-01-01 00:28:45   \n",
       "3  91F95E512CABC46A   classic_bike 2021-01-01 00:15:45 2021-01-01 00:21:20   \n",
       "4  DA46A05139C0EA2F   classic_bike 2021-01-01 00:17:46 2021-01-01 00:21:00   \n",
       "6  0535306B61EF92F9   classic_bike 2021-01-01 00:19:06 2021-01-01 00:36:28   \n",
       "\n",
       "               start_station_name start_station_id  \\\n",
       "0           Maine Ave & 9th St SW          31646.0   \n",
       "2           17th & Corcoran St NW          31214.0   \n",
       "3   Wilson Blvd. & N. Vermont St.          31926.0   \n",
       "4               11th & Park Rd NW          31651.0   \n",
       "6  Bladensburg Rd & Benning Rd NE          31617.0   \n",
       "\n",
       "                           end_station_name end_station_id  start_lat  \\\n",
       "0  Rosslyn Metro / Wilson Blvd & Ft Myer Dr        31015.0  38.880440   \n",
       "2                      14th & Belmont St NW        31119.0  38.912138   \n",
       "3             Wilson Blvd. & N. Vermont St.        31926.0  38.879477   \n",
       "4                       14th & Newton St NW        31649.0  38.931322   \n",
       "6                 Good Hope Rd & MLK Ave SE        31802.0  38.900413   \n",
       "\n",
       "   start_lng  ...  member_casual  year month  weekday  day_type holiday  \\\n",
       "0 -77.025236  ...         member  2021     1   Friday   Weekday       1   \n",
       "2 -77.038568  ...         member  2021     1   Friday   Weekday       1   \n",
       "3 -77.114563  ...         member  2021     1   Friday   Weekday       1   \n",
       "4 -77.028247  ...         member  2021     1   Friday   Weekday       1   \n",
       "6 -76.982872  ...         casual  2021     1   Friday   Weekday       1   \n",
       "\n",
       "  is_holiday  season season_name  ride_duration_min  \n",
       "0        Yes       1      Winter              25.33  \n",
       "2        Yes       1      Winter              14.22  \n",
       "3        Yes       1      Winter               5.58  \n",
       "4        Yes       1      Winter               3.23  \n",
       "6        Yes       1      Winter              17.37  \n",
       "\n",
       "[5 rows x 22 columns]"
      ]
     },
     "execution_count": 27,
     "metadata": {},
     "output_type": "execute_result"
    }
   ],
   "source": [
    "df_full.head()"
   ]
  },
  {
   "cell_type": "code",
   "execution_count": 28,
   "metadata": {},
   "outputs": [
    {
     "name": "stdout",
     "output_type": "stream",
     "text": [
      "            ride_id  rideable_type          started_at            ended_at  \\\n",
      "0  5CB9DFCECF79AF84   classic_bike 2021-01-01 00:08:33 2021-01-01 00:33:53   \n",
      "2  E74069873161EE33  electric_bike 2021-01-01 00:14:32 2021-01-01 00:28:45   \n",
      "3  91F95E512CABC46A   classic_bike 2021-01-01 00:15:45 2021-01-01 00:21:20   \n",
      "4  DA46A05139C0EA2F   classic_bike 2021-01-01 00:17:46 2021-01-01 00:21:00   \n",
      "6  0535306B61EF92F9   classic_bike 2021-01-01 00:19:06 2021-01-01 00:36:28   \n",
      "\n",
      "               start_station_name start_station_id  \\\n",
      "0           Maine Ave & 9th St SW          31646.0   \n",
      "2           17th & Corcoran St NW          31214.0   \n",
      "3   Wilson Blvd. & N. Vermont St.          31926.0   \n",
      "4               11th & Park Rd NW          31651.0   \n",
      "6  Bladensburg Rd & Benning Rd NE          31617.0   \n",
      "\n",
      "                           end_station_name end_station_id  start_lat  \\\n",
      "0  Rosslyn Metro / Wilson Blvd & Ft Myer Dr        31015.0  38.880440   \n",
      "2                      14th & Belmont St NW        31119.0  38.912138   \n",
      "3             Wilson Blvd. & N. Vermont St.        31926.0  38.879477   \n",
      "4                       14th & Newton St NW        31649.0  38.931322   \n",
      "6                 Good Hope Rd & MLK Ave SE        31802.0  38.900413   \n",
      "\n",
      "   start_lng  ...  month  weekday day_type  holiday  is_holiday season  \\\n",
      "0 -77.025236  ...      1   Friday  Weekday        1         Yes      1   \n",
      "2 -77.038568  ...      1   Friday  Weekday        1         Yes      1   \n",
      "3 -77.114563  ...      1   Friday  Weekday        1         Yes      1   \n",
      "4 -77.028247  ...      1   Friday  Weekday        1         Yes      1   \n",
      "6 -76.982872  ...      1   Friday  Weekday        1         Yes      1   \n",
      "\n",
      "  season_name  ride_duration_min              geometry_start  \\\n",
      "0      Winter              25.33  POINT (-77.02524 38.88044)   \n",
      "2      Winter              14.22  POINT (-77.03857 38.91214)   \n",
      "3      Winter               5.58  POINT (-77.11456 38.87948)   \n",
      "4      Winter               3.23  POINT (-77.02825 38.93132)   \n",
      "6      Winter              17.37  POINT (-76.98287 38.90041)   \n",
      "\n",
      "                 geometry_end  \n",
      "0    POINT (-77.0723 38.8946)  \n",
      "2  POINT (-77.03169 38.92087)  \n",
      "3  POINT (-77.11456 38.87948)  \n",
      "4  POINT (-77.03296 38.93199)  \n",
      "6  POINT (-76.98804 38.86737)  \n",
      "\n",
      "[5 rows x 24 columns]\n",
      "<class 'geopandas.geodataframe.GeoDataFrame'>\n"
     ]
    }
   ],
   "source": [
    "\n",
    "# df_full_copy = df_full.copy()\n",
    "\n",
    "df_full['geometry_start'] = gpd.points_from_xy(df_full['start_lng'], df_full['start_lat'])\n",
    "df_full['geometry_end'] = gpd.points_from_xy(df_full['end_lng'], df_full['end_lat'])\n",
    "\n",
    "gdf_full = gpd.GeoDataFrame(df_full, geometry='geometry_start')\n",
    "gdf_full = gdf_full.set_geometry('geometry_end')\n",
    "\n",
    "\n",
    "print(gdf_full.head())\n",
    "print(type(gdf_full))"
   ]
  },
  {
   "cell_type": "markdown",
   "metadata": {},
   "source": [
    "### start_station_id to INT"
   ]
  },
  {
   "cell_type": "code",
   "execution_count": 29,
   "metadata": {},
   "outputs": [
    {
     "name": "stdout",
     "output_type": "stream",
     "text": [
      "<class 'pandas.core.series.Series'>\n",
      "Index: 9453581 entries, 0 to 10693993\n",
      "Series name: end_station_id\n",
      "Non-Null Count    Dtype\n",
      "--------------    -----\n",
      "9453581 non-null  Int64\n",
      "dtypes: Int64(1)\n",
      "memory usage: 153.3 MB\n"
     ]
    }
   ],
   "source": [
    "df_full['start_station_id'] = df_full['start_station_id'].astype('float').astype('Int64')\n",
    "df_full['end_station_id'] = df_full['end_station_id'].astype('float').astype('Int64')\n",
    "\n",
    "df_full['end_station_id'].info()"
   ]
  },
  {
   "cell_type": "code",
   "execution_count": 30,
   "metadata": {},
   "outputs": [
    {
     "data": {
      "text/html": [
       "<div>\n",
       "<style scoped>\n",
       "    .dataframe tbody tr th:only-of-type {\n",
       "        vertical-align: middle;\n",
       "    }\n",
       "\n",
       "    .dataframe tbody tr th {\n",
       "        vertical-align: top;\n",
       "    }\n",
       "\n",
       "    .dataframe thead th {\n",
       "        text-align: right;\n",
       "    }\n",
       "</style>\n",
       "<table border=\"1\" class=\"dataframe\">\n",
       "  <thead>\n",
       "    <tr style=\"text-align: right;\">\n",
       "      <th></th>\n",
       "      <th>ride_id</th>\n",
       "      <th>rideable_type</th>\n",
       "      <th>started_at</th>\n",
       "      <th>ended_at</th>\n",
       "      <th>start_station_name</th>\n",
       "      <th>start_station_id</th>\n",
       "      <th>end_station_name</th>\n",
       "      <th>end_station_id</th>\n",
       "      <th>start_lat</th>\n",
       "      <th>start_lng</th>\n",
       "      <th>...</th>\n",
       "      <th>month</th>\n",
       "      <th>weekday</th>\n",
       "      <th>day_type</th>\n",
       "      <th>holiday</th>\n",
       "      <th>is_holiday</th>\n",
       "      <th>season</th>\n",
       "      <th>season_name</th>\n",
       "      <th>ride_duration_min</th>\n",
       "      <th>geometry_start</th>\n",
       "      <th>geometry_end</th>\n",
       "    </tr>\n",
       "  </thead>\n",
       "  <tbody>\n",
       "    <tr>\n",
       "      <th>0</th>\n",
       "      <td>5CB9DFCECF79AF84</td>\n",
       "      <td>classic_bike</td>\n",
       "      <td>2021-01-01 00:08:33</td>\n",
       "      <td>2021-01-01 00:33:53</td>\n",
       "      <td>Maine Ave &amp; 9th St SW</td>\n",
       "      <td>31646</td>\n",
       "      <td>Rosslyn Metro / Wilson Blvd &amp; Ft Myer Dr</td>\n",
       "      <td>31015</td>\n",
       "      <td>38.880440</td>\n",
       "      <td>-77.025236</td>\n",
       "      <td>...</td>\n",
       "      <td>1</td>\n",
       "      <td>Friday</td>\n",
       "      <td>Weekday</td>\n",
       "      <td>1</td>\n",
       "      <td>Yes</td>\n",
       "      <td>1</td>\n",
       "      <td>Winter</td>\n",
       "      <td>25.33</td>\n",
       "      <td>POINT (-77.02524 38.88044)</td>\n",
       "      <td>POINT (-77.0723 38.8946)</td>\n",
       "    </tr>\n",
       "    <tr>\n",
       "      <th>2</th>\n",
       "      <td>E74069873161EE33</td>\n",
       "      <td>electric_bike</td>\n",
       "      <td>2021-01-01 00:14:32</td>\n",
       "      <td>2021-01-01 00:28:45</td>\n",
       "      <td>17th &amp; Corcoran St NW</td>\n",
       "      <td>31214</td>\n",
       "      <td>14th &amp; Belmont St NW</td>\n",
       "      <td>31119</td>\n",
       "      <td>38.912138</td>\n",
       "      <td>-77.038568</td>\n",
       "      <td>...</td>\n",
       "      <td>1</td>\n",
       "      <td>Friday</td>\n",
       "      <td>Weekday</td>\n",
       "      <td>1</td>\n",
       "      <td>Yes</td>\n",
       "      <td>1</td>\n",
       "      <td>Winter</td>\n",
       "      <td>14.22</td>\n",
       "      <td>POINT (-77.03857 38.91214)</td>\n",
       "      <td>POINT (-77.03169 38.92087)</td>\n",
       "    </tr>\n",
       "    <tr>\n",
       "      <th>3</th>\n",
       "      <td>91F95E512CABC46A</td>\n",
       "      <td>classic_bike</td>\n",
       "      <td>2021-01-01 00:15:45</td>\n",
       "      <td>2021-01-01 00:21:20</td>\n",
       "      <td>Wilson Blvd. &amp; N. Vermont St.</td>\n",
       "      <td>31926</td>\n",
       "      <td>Wilson Blvd. &amp; N. Vermont St.</td>\n",
       "      <td>31926</td>\n",
       "      <td>38.879477</td>\n",
       "      <td>-77.114563</td>\n",
       "      <td>...</td>\n",
       "      <td>1</td>\n",
       "      <td>Friday</td>\n",
       "      <td>Weekday</td>\n",
       "      <td>1</td>\n",
       "      <td>Yes</td>\n",
       "      <td>1</td>\n",
       "      <td>Winter</td>\n",
       "      <td>5.58</td>\n",
       "      <td>POINT (-77.11456 38.87948)</td>\n",
       "      <td>POINT (-77.11456 38.87948)</td>\n",
       "    </tr>\n",
       "    <tr>\n",
       "      <th>4</th>\n",
       "      <td>DA46A05139C0EA2F</td>\n",
       "      <td>classic_bike</td>\n",
       "      <td>2021-01-01 00:17:46</td>\n",
       "      <td>2021-01-01 00:21:00</td>\n",
       "      <td>11th &amp; Park Rd NW</td>\n",
       "      <td>31651</td>\n",
       "      <td>14th &amp; Newton St NW</td>\n",
       "      <td>31649</td>\n",
       "      <td>38.931322</td>\n",
       "      <td>-77.028247</td>\n",
       "      <td>...</td>\n",
       "      <td>1</td>\n",
       "      <td>Friday</td>\n",
       "      <td>Weekday</td>\n",
       "      <td>1</td>\n",
       "      <td>Yes</td>\n",
       "      <td>1</td>\n",
       "      <td>Winter</td>\n",
       "      <td>3.23</td>\n",
       "      <td>POINT (-77.02825 38.93132)</td>\n",
       "      <td>POINT (-77.03296 38.93199)</td>\n",
       "    </tr>\n",
       "    <tr>\n",
       "      <th>6</th>\n",
       "      <td>0535306B61EF92F9</td>\n",
       "      <td>classic_bike</td>\n",
       "      <td>2021-01-01 00:19:06</td>\n",
       "      <td>2021-01-01 00:36:28</td>\n",
       "      <td>Bladensburg Rd &amp; Benning Rd NE</td>\n",
       "      <td>31617</td>\n",
       "      <td>Good Hope Rd &amp; MLK Ave SE</td>\n",
       "      <td>31802</td>\n",
       "      <td>38.900413</td>\n",
       "      <td>-76.982872</td>\n",
       "      <td>...</td>\n",
       "      <td>1</td>\n",
       "      <td>Friday</td>\n",
       "      <td>Weekday</td>\n",
       "      <td>1</td>\n",
       "      <td>Yes</td>\n",
       "      <td>1</td>\n",
       "      <td>Winter</td>\n",
       "      <td>17.37</td>\n",
       "      <td>POINT (-76.98287 38.90041)</td>\n",
       "      <td>POINT (-76.98804 38.86737)</td>\n",
       "    </tr>\n",
       "    <tr>\n",
       "      <th>8</th>\n",
       "      <td>CB36F43FA77E4A35</td>\n",
       "      <td>docked_bike</td>\n",
       "      <td>2021-01-01 00:21:19</td>\n",
       "      <td>2021-01-01 00:33:31</td>\n",
       "      <td>15th &amp; F St NE</td>\n",
       "      <td>31632</td>\n",
       "      <td>1st &amp; M St SE</td>\n",
       "      <td>31650</td>\n",
       "      <td>38.897195</td>\n",
       "      <td>-76.983575</td>\n",
       "      <td>...</td>\n",
       "      <td>1</td>\n",
       "      <td>Friday</td>\n",
       "      <td>Weekday</td>\n",
       "      <td>1</td>\n",
       "      <td>Yes</td>\n",
       "      <td>1</td>\n",
       "      <td>Winter</td>\n",
       "      <td>12.20</td>\n",
       "      <td>POINT (-76.98358 38.8972)</td>\n",
       "      <td>POINT (-77.00607 38.87689)</td>\n",
       "    </tr>\n",
       "    <tr>\n",
       "      <th>9</th>\n",
       "      <td>874D92427D41BC30</td>\n",
       "      <td>classic_bike</td>\n",
       "      <td>2021-01-01 00:21:39</td>\n",
       "      <td>2021-01-01 00:31:07</td>\n",
       "      <td>14th &amp; Otis Pl NW</td>\n",
       "      <td>31131</td>\n",
       "      <td>14th &amp; R St NW</td>\n",
       "      <td>31202</td>\n",
       "      <td>38.934405</td>\n",
       "      <td>-77.032687</td>\n",
       "      <td>...</td>\n",
       "      <td>1</td>\n",
       "      <td>Friday</td>\n",
       "      <td>Weekday</td>\n",
       "      <td>1</td>\n",
       "      <td>Yes</td>\n",
       "      <td>1</td>\n",
       "      <td>Winter</td>\n",
       "      <td>9.47</td>\n",
       "      <td>POINT (-77.03269 38.9344)</td>\n",
       "      <td>POINT (-77.03201 38.91305)</td>\n",
       "    </tr>\n",
       "    <tr>\n",
       "      <th>10</th>\n",
       "      <td>24ECE930048A9B67</td>\n",
       "      <td>classic_bike</td>\n",
       "      <td>2021-01-01 00:23:05</td>\n",
       "      <td>2021-01-01 00:37:02</td>\n",
       "      <td>Lincoln Park / 13th &amp; East Capitol St NE</td>\n",
       "      <td>31619</td>\n",
       "      <td>Lincoln Park / 13th &amp; East Capitol St NE</td>\n",
       "      <td>31619</td>\n",
       "      <td>38.890461</td>\n",
       "      <td>-76.988355</td>\n",
       "      <td>...</td>\n",
       "      <td>1</td>\n",
       "      <td>Friday</td>\n",
       "      <td>Weekday</td>\n",
       "      <td>1</td>\n",
       "      <td>Yes</td>\n",
       "      <td>1</td>\n",
       "      <td>Winter</td>\n",
       "      <td>13.95</td>\n",
       "      <td>POINT (-76.98836 38.89046)</td>\n",
       "      <td>POINT (-76.98836 38.89046)</td>\n",
       "    </tr>\n",
       "    <tr>\n",
       "      <th>11</th>\n",
       "      <td>DA579474AAD89387</td>\n",
       "      <td>classic_bike</td>\n",
       "      <td>2021-01-01 00:24:12</td>\n",
       "      <td>2021-01-01 00:47:47</td>\n",
       "      <td>Henry Bacon Dr &amp; Lincoln Memorial Circle NW</td>\n",
       "      <td>31289</td>\n",
       "      <td>14th St &amp; New York Ave NW</td>\n",
       "      <td>31216</td>\n",
       "      <td>38.890539</td>\n",
       "      <td>-77.049383</td>\n",
       "      <td>...</td>\n",
       "      <td>1</td>\n",
       "      <td>Friday</td>\n",
       "      <td>Weekday</td>\n",
       "      <td>1</td>\n",
       "      <td>Yes</td>\n",
       "      <td>1</td>\n",
       "      <td>Winter</td>\n",
       "      <td>23.58</td>\n",
       "      <td>POINT (-77.04938 38.89054)</td>\n",
       "      <td>POINT (-77.03169 38.89963)</td>\n",
       "    </tr>\n",
       "    <tr>\n",
       "      <th>12</th>\n",
       "      <td>1DE392338FF58AC7</td>\n",
       "      <td>classic_bike</td>\n",
       "      <td>2021-01-01 00:24:12</td>\n",
       "      <td>2021-01-01 00:47:54</td>\n",
       "      <td>Henry Bacon Dr &amp; Lincoln Memorial Circle NW</td>\n",
       "      <td>31289</td>\n",
       "      <td>14th St &amp; New York Ave NW</td>\n",
       "      <td>31216</td>\n",
       "      <td>38.890539</td>\n",
       "      <td>-77.049383</td>\n",
       "      <td>...</td>\n",
       "      <td>1</td>\n",
       "      <td>Friday</td>\n",
       "      <td>Weekday</td>\n",
       "      <td>1</td>\n",
       "      <td>Yes</td>\n",
       "      <td>1</td>\n",
       "      <td>Winter</td>\n",
       "      <td>23.70</td>\n",
       "      <td>POINT (-77.04938 38.89054)</td>\n",
       "      <td>POINT (-77.03169 38.89963)</td>\n",
       "    </tr>\n",
       "  </tbody>\n",
       "</table>\n",
       "<p>10 rows × 24 columns</p>\n",
       "</div>"
      ],
      "text/plain": [
       "             ride_id  rideable_type          started_at            ended_at  \\\n",
       "0   5CB9DFCECF79AF84   classic_bike 2021-01-01 00:08:33 2021-01-01 00:33:53   \n",
       "2   E74069873161EE33  electric_bike 2021-01-01 00:14:32 2021-01-01 00:28:45   \n",
       "3   91F95E512CABC46A   classic_bike 2021-01-01 00:15:45 2021-01-01 00:21:20   \n",
       "4   DA46A05139C0EA2F   classic_bike 2021-01-01 00:17:46 2021-01-01 00:21:00   \n",
       "6   0535306B61EF92F9   classic_bike 2021-01-01 00:19:06 2021-01-01 00:36:28   \n",
       "8   CB36F43FA77E4A35    docked_bike 2021-01-01 00:21:19 2021-01-01 00:33:31   \n",
       "9   874D92427D41BC30   classic_bike 2021-01-01 00:21:39 2021-01-01 00:31:07   \n",
       "10  24ECE930048A9B67   classic_bike 2021-01-01 00:23:05 2021-01-01 00:37:02   \n",
       "11  DA579474AAD89387   classic_bike 2021-01-01 00:24:12 2021-01-01 00:47:47   \n",
       "12  1DE392338FF58AC7   classic_bike 2021-01-01 00:24:12 2021-01-01 00:47:54   \n",
       "\n",
       "                             start_station_name  start_station_id  \\\n",
       "0                         Maine Ave & 9th St SW             31646   \n",
       "2                         17th & Corcoran St NW             31214   \n",
       "3                 Wilson Blvd. & N. Vermont St.             31926   \n",
       "4                             11th & Park Rd NW             31651   \n",
       "6                Bladensburg Rd & Benning Rd NE             31617   \n",
       "8                                15th & F St NE             31632   \n",
       "9                             14th & Otis Pl NW             31131   \n",
       "10    Lincoln Park / 13th & East Capitol St NE              31619   \n",
       "11  Henry Bacon Dr & Lincoln Memorial Circle NW             31289   \n",
       "12  Henry Bacon Dr & Lincoln Memorial Circle NW             31289   \n",
       "\n",
       "                             end_station_name  end_station_id  start_lat  \\\n",
       "0    Rosslyn Metro / Wilson Blvd & Ft Myer Dr           31015  38.880440   \n",
       "2                        14th & Belmont St NW           31119  38.912138   \n",
       "3               Wilson Blvd. & N. Vermont St.           31926  38.879477   \n",
       "4                         14th & Newton St NW           31649  38.931322   \n",
       "6                   Good Hope Rd & MLK Ave SE           31802  38.900413   \n",
       "8                               1st & M St SE           31650  38.897195   \n",
       "9                              14th & R St NW           31202  38.934405   \n",
       "10  Lincoln Park / 13th & East Capitol St NE            31619  38.890461   \n",
       "11                  14th St & New York Ave NW           31216  38.890539   \n",
       "12                  14th St & New York Ave NW           31216  38.890539   \n",
       "\n",
       "    start_lng  ...  month  weekday day_type  holiday  is_holiday season  \\\n",
       "0  -77.025236  ...      1   Friday  Weekday        1         Yes      1   \n",
       "2  -77.038568  ...      1   Friday  Weekday        1         Yes      1   \n",
       "3  -77.114563  ...      1   Friday  Weekday        1         Yes      1   \n",
       "4  -77.028247  ...      1   Friday  Weekday        1         Yes      1   \n",
       "6  -76.982872  ...      1   Friday  Weekday        1         Yes      1   \n",
       "8  -76.983575  ...      1   Friday  Weekday        1         Yes      1   \n",
       "9  -77.032687  ...      1   Friday  Weekday        1         Yes      1   \n",
       "10 -76.988355  ...      1   Friday  Weekday        1         Yes      1   \n",
       "11 -77.049383  ...      1   Friday  Weekday        1         Yes      1   \n",
       "12 -77.049383  ...      1   Friday  Weekday        1         Yes      1   \n",
       "\n",
       "   season_name  ride_duration_min              geometry_start  \\\n",
       "0       Winter              25.33  POINT (-77.02524 38.88044)   \n",
       "2       Winter              14.22  POINT (-77.03857 38.91214)   \n",
       "3       Winter               5.58  POINT (-77.11456 38.87948)   \n",
       "4       Winter               3.23  POINT (-77.02825 38.93132)   \n",
       "6       Winter              17.37  POINT (-76.98287 38.90041)   \n",
       "8       Winter              12.20   POINT (-76.98358 38.8972)   \n",
       "9       Winter               9.47   POINT (-77.03269 38.9344)   \n",
       "10      Winter              13.95  POINT (-76.98836 38.89046)   \n",
       "11      Winter              23.58  POINT (-77.04938 38.89054)   \n",
       "12      Winter              23.70  POINT (-77.04938 38.89054)   \n",
       "\n",
       "                  geometry_end  \n",
       "0     POINT (-77.0723 38.8946)  \n",
       "2   POINT (-77.03169 38.92087)  \n",
       "3   POINT (-77.11456 38.87948)  \n",
       "4   POINT (-77.03296 38.93199)  \n",
       "6   POINT (-76.98804 38.86737)  \n",
       "8   POINT (-77.00607 38.87689)  \n",
       "9   POINT (-77.03201 38.91305)  \n",
       "10  POINT (-76.98836 38.89046)  \n",
       "11  POINT (-77.03169 38.89963)  \n",
       "12  POINT (-77.03169 38.89963)  \n",
       "\n",
       "[10 rows x 24 columns]"
      ]
     },
     "execution_count": 30,
     "metadata": {},
     "output_type": "execute_result"
    }
   ],
   "source": [
    "df_full.head(10)"
   ]
  },
  {
   "cell_type": "markdown",
   "metadata": {},
   "source": [
    "## EDA"
   ]
  },
  {
   "cell_type": "markdown",
   "metadata": {},
   "source": [
    "### Length of Ride Count"
   ]
  },
  {
   "cell_type": "code",
   "execution_count": 86,
   "metadata": {},
   "outputs": [
    {
     "name": "stderr",
     "output_type": "stream",
     "text": [
      "/var/folders/pm/7vn7thz14p556cr_ql9w5xbw0000gn/T/ipykernel_47497/3891041089.py:12: UserWarning: No artists with labels found to put in legend.  Note that artists whose label start with an underscore are ignored when legend() is called with no argument.\n",
      "  plt.legend()\n"
     ]
    },
    {
     "data": {
      "image/png": "[encoded data removed]",
      "text/plain": [
       "<Figure size 1000x600 with 1 Axes>"
      ]
     },
     "metadata": {},
     "output_type": "display_data"
    }
   ],
   "source": [
    "plt.figure(figsize=(10,6))  # Optional: set figure size for readability\n",
    "plt.hist(df_full['ride_duration_min'], bins=50, edgecolor='black')  # bins = how many bars\n",
    "plt.xlabel('Ride Duration (minutes)')\n",
    "plt.xticks(range(0, 121, 5))\n",
    "plt.ylabel('Count of Rides')\n",
    "plt.title('Distribution of Ride Durations')\n",
    "\n",
    "ax = plt.gca()\n",
    "ax.yaxis.set_major_formatter(ticker.FuncFormatter(lambda x, pos: f'{x*1e-6:.1f}M'))\n",
    "\n",
    "plt.tight_layout()\n",
    "plt.legend()\n",
    "plt.show()\n"
   ]
  },
  {
   "cell_type": "code",
   "execution_count": 87,
   "metadata": {},
   "outputs": [
    {
     "name": "stderr",
     "output_type": "stream",
     "text": [
      "/var/folders/pm/7vn7thz14p556cr_ql9w5xbw0000gn/T/ipykernel_47497/2371007458.py:16: UserWarning: No artists with labels found to put in legend.  Note that artists whose label start with an underscore are ignored when legend() is called with no argument.\n",
      "  plt.legend()\n"
     ]
    },
    {
     "data": {
      "image/png": "[encoded data removed]",
      "text/plain": [
       "<Figure size 1000x600 with 1 Axes>"
      ]
     },
     "metadata": {},
     "output_type": "display_data"
    },
    {
     "data": {
      "image/png": "[encoded data removed]",
      "text/plain": [
       "<Figure size 1000x600 with 1 Axes>"
      ]
     },
     "metadata": {},
     "output_type": "display_data"
    },
    {
     "data": {
      "image/png": "[encoded data removed]",
      "text/plain": [
       "<Figure size 1000x600 with 1 Axes>"
      ]
     },
     "metadata": {},
     "output_type": "display_data"
    }
   ],
   "source": [
    "unique_years = sorted(df_full['year'].unique())\n",
    "\n",
    "for year in unique_years:\n",
    "    plt.figure(figsize=(10,6))  # Optional: set figure size for readability\n",
    "    data_year = df_full[df_full['year'] == year]\n",
    "    plt.hist(data_year['ride_duration_min'], bins=50, edgecolor='black')  # bins = how many bars\n",
    "    plt.xlabel('Ride Duration (minutes)')\n",
    "    plt.xticks(range(0, 121, 5))\n",
    "    plt.ylabel('Count of Rides')\n",
    "    plt.title(f'Distribution of Ride Durations during {year}')\n",
    "\n",
    "    ax = plt.gca()\n",
    "    ax.yaxis.set_major_formatter(ticker.FuncFormatter(lambda x, pos: f'{x*1e-3:.0f}K'))\n",
    "\n",
    "    plt.tight_layout()\n",
    "    plt.legend()\n",
    "    plt.show()  "
   ]
  },
  {
   "cell_type": "markdown",
   "metadata": {},
   "source": [
    "### Length Ride Weekday vs Weekend"
   ]
  },
  {
   "cell_type": "code",
   "execution_count": 38,
   "metadata": {},
   "outputs": [
    {
     "data": {
      "image/png": "[encoded data removed]",
      "text/plain": [
       "<Figure size 600x400 with 1 Axes>"
      ]
     },
     "metadata": {},
     "output_type": "display_data"
    }
   ],
   "source": [
    "weekday_avg = df_full[df_full['day_type'] == 'Weekday']['ride_duration_min'].mean()\n",
    "\n",
    "weekend_avg = df_full[df_full['day_type'] == 'Weekend']['ride_duration_min'].mean()\n",
    "\n",
    "\n",
    "averages = [weekday_avg, weekend_avg]\n",
    "labels = ['Weekday', 'Weekend']\n",
    "\n",
    "plt.figure(figsize=(6,4))\n",
    "plt.bar(labels, averages, color=['skyblue', 'orange'])\n",
    "\n",
    "plt.xlabel('Day Type')\n",
    "plt.ylabel('Ride duration')\n",
    "plt.title(f'Average ride duration on weekdays vs weekends')\n",
    "ax = plt.gca()\n",
    "ax.yaxis.set_major_formatter(ticker.FuncFormatter(lambda x, pos: f'{x:.0f}'))\n",
    "\n",
    "plt.tight_layout()\n",
    "\n",
    "plt.show()  \n"
   ]
  },
  {
   "cell_type": "code",
   "execution_count": 39,
   "metadata": {},
   "outputs": [
    {
     "name": "stderr",
     "output_type": "stream",
     "text": [
      "/var/folders/pm/7vn7thz14p556cr_ql9w5xbw0000gn/T/ipykernel_47497/1983653534.py:30: UserWarning: No artists with labels found to put in legend.  Note that artists whose label start with an underscore are ignored when legend() is called with no argument.\n",
      "  plt.legend()\n"
     ]
    },
    {
     "data": {
      "image/png": "[encoded data removed]",
      "text/plain": [
       "<Figure size 600x400 with 1 Axes>"
      ]
     },
     "metadata": {},
     "output_type": "display_data"
    },
    {
     "data": {
      "image/png": "[encoded data removed]",
      "text/plain": [
       "<Figure size 600x400 with 1 Axes>"
      ]
     },
     "metadata": {},
     "output_type": "display_data"
    },
    {
     "data": {
      "image/png": "[encoded data removed]",
      "text/plain": [
       "<Figure size 600x400 with 1 Axes>"
      ]
     },
     "metadata": {},
     "output_type": "display_data"
    }
   ],
   "source": [
    "unique_years = sorted(df_full['year'].unique())\n",
    "\n",
    "weekday_avg = df_full[df_full['day_type'] == 'Weekday']['ride_duration_min'].mean()\n",
    "\n",
    "weekend_avg = df_full[df_full['day_type'] == 'Weekend']['ride_duration_min'].mean()\n",
    "\n",
    "\n",
    "labels = ['Weekday', 'Weekend']\n",
    "\n",
    "\n",
    "for year in unique_years:\n",
    "\n",
    "    df_year = df_full[df_full['year'] == year]\n",
    "\n",
    "    weekday_avg_unique = df_year[df_year['day_type'] == 'Weekday']['ride_duration_min'].mean()\n",
    "\n",
    "    weekend_avg_unique = df_year[df_year['day_type'] == 'Weekend']['ride_duration_min'].mean()\n",
    "    averages_unique = [weekday_avg_unique, weekend_avg_unique]\n",
    "\n",
    "    plt.figure(figsize=(6,4))\n",
    "    plt.bar(labels, averages_unique, color=['skyblue', 'orange'])\n",
    "\n",
    "    ax = plt.gca()\n",
    "    ax.yaxis.set_major_formatter(ticker.FuncFormatter(lambda x, pos: f'{x:.0f}'))\n",
    "    \n",
    "    plt.xlabel('Day Type')\n",
    "    plt.ylabel('Ride duration')\n",
    "    plt.title(f'{year}: Average ride duration on weekdays vs weekends')\n",
    "    plt.tight_layout()\n",
    "    plt.legend()\n",
    "    plt.show()  "
   ]
  },
  {
   "cell_type": "markdown",
   "metadata": {},
   "source": [
    "### Length Ride Weekday comparison"
   ]
  },
  {
   "cell_type": "code",
   "execution_count": 40,
   "metadata": {},
   "outputs": [
    {
     "data": {
      "text/plain": [
       "0           Friday\n",
       "2           Friday\n",
       "3           Friday\n",
       "4           Friday\n",
       "6           Friday\n",
       "             ...  \n",
       "10693989    Sunday\n",
       "10693990    Sunday\n",
       "10693991    Sunday\n",
       "10693992    Sunday\n",
       "10693993    Sunday\n",
       "Name: weekday, Length: 9453581, dtype: category\n",
       "Categories (7, object): ['Monday' < 'Tuesday' < 'Wednesday' < 'Thursday' < 'Friday' < 'Saturday' < 'Sunday']"
      ]
     },
     "execution_count": 40,
     "metadata": {},
     "output_type": "execute_result"
    }
   ],
   "source": [
    "df_full.weekday"
   ]
  },
  {
   "cell_type": "code",
   "execution_count": 42,
   "metadata": {},
   "outputs": [
    {
     "name": "stderr",
     "output_type": "stream",
     "text": [
      "/var/folders/pm/7vn7thz14p556cr_ql9w5xbw0000gn/T/ipykernel_47497/2356246123.py:4: FutureWarning: The default of observed=False is deprecated and will be changed to True in a future version of pandas. Pass observed=False to retain current behavior or observed=True to adopt the future default and silence this warning.\n",
      "  weekday_avg = df_full.groupby('weekday')['ride_duration_min'].mean().reset_index()\n"
     ]
    },
    {
     "data": {
      "image/png": "[encoded data removed]",
      "text/plain": [
       "<Figure size 600x400 with 1 Axes>"
      ]
     },
     "metadata": {},
     "output_type": "display_data"
    }
   ],
   "source": [
    "weekday_order = ['Monday', 'Tuesday', 'Wednesday', 'Thursday', 'Friday', 'Saturday', 'Sunday']\n",
    "\n",
    "# Get the weekday avarage for each day of the week. \n",
    "weekday_avg = df_full.groupby('weekday')['ride_duration_min'].mean().reset_index()\n",
    "\n",
    "# Make 'weekday' a categorical column with the desired order\n",
    "weekday_avg['weekday'] = pd.Categorical(weekday_avg['weekday'], categories=weekday_order, ordered=True)\n",
    "\n",
    "# Sort by this categorical order\n",
    "weekday_avg = weekday_avg.sort_values('weekday')\n",
    "\n",
    "plt.figure(figsize=(6,4))\n",
    "plt.bar(weekday_avg['weekday'], weekday_avg['ride_duration_min'])\n",
    "\n",
    "plt.xlabel('Day Type')\n",
    "plt.ylabel('Ride ride_duration_min')\n",
    "plt.title(f'Average ride duration by day of week')\n",
    "ax = plt.gca()\n",
    "ax.yaxis.set_major_formatter(ticker.FuncFormatter(lambda x, pos: f'{x:.0f}'))\n",
    "\n",
    "plt.tight_layout()\n",
    "\n",
    "plt.show()  "
   ]
  },
  {
   "cell_type": "markdown",
   "metadata": {},
   "source": [
    "### MAPS"
   ]
  },
  {
   "cell_type": "markdown",
   "metadata": {},
   "source": [
    "#### Main Map"
   ]
  },
  {
   "cell_type": "code",
   "execution_count": 43,
   "metadata": {},
   "outputs": [
    {
     "data": {
      "text/plain": [
       "0          -77.025236\n",
       "2          -77.038568\n",
       "3          -77.114563\n",
       "4          -77.028247\n",
       "6          -76.982872\n",
       "              ...    \n",
       "10693989   -77.046570\n",
       "10693990   -77.041829\n",
       "10693991   -76.995234\n",
       "10693992   -77.055911\n",
       "10693993   -76.995396\n",
       "Name: start_lng, Length: 9453581, dtype: float64"
      ]
     },
     "execution_count": 43,
     "metadata": {},
     "output_type": "execute_result"
    }
   ],
   "source": [
    "df_full.start_lng"
   ]
  },
  {
   "cell_type": "code",
   "execution_count": 44,
   "metadata": {},
   "outputs": [],
   "source": [
    "f = folium.Figure(width=1500, height=500)\n",
    "m = folium.Map(location=[38.884185,-76.995396], zoom_start=10, max_zoom=18, min_zoom=0).add_to(f)"
   ]
  },
  {
   "cell_type": "markdown",
   "metadata": {},
   "source": [
    "#### Filtering through top 20 stations. "
   ]
  },
  {
   "cell_type": "code",
   "execution_count": 45,
   "metadata": {},
   "outputs": [
    {
     "data": {
      "text/html": [
       "<div>\n",
       "<style scoped>\n",
       "    .dataframe tbody tr th:only-of-type {\n",
       "        vertical-align: middle;\n",
       "    }\n",
       "\n",
       "    .dataframe tbody tr th {\n",
       "        vertical-align: top;\n",
       "    }\n",
       "\n",
       "    .dataframe thead th {\n",
       "        text-align: right;\n",
       "    }\n",
       "</style>\n",
       "<table border=\"1\" class=\"dataframe\">\n",
       "  <thead>\n",
       "    <tr style=\"text-align: right;\">\n",
       "      <th></th>\n",
       "      <th>ride_id</th>\n",
       "      <th>rideable_type</th>\n",
       "      <th>started_at</th>\n",
       "      <th>ended_at</th>\n",
       "      <th>start_station_name</th>\n",
       "      <th>start_station_id</th>\n",
       "      <th>end_station_name</th>\n",
       "      <th>end_station_id</th>\n",
       "      <th>start_lat</th>\n",
       "      <th>start_lng</th>\n",
       "      <th>...</th>\n",
       "      <th>month</th>\n",
       "      <th>weekday</th>\n",
       "      <th>day_type</th>\n",
       "      <th>holiday</th>\n",
       "      <th>is_holiday</th>\n",
       "      <th>season</th>\n",
       "      <th>season_name</th>\n",
       "      <th>ride_duration_min</th>\n",
       "      <th>geometry_start</th>\n",
       "      <th>geometry_end</th>\n",
       "    </tr>\n",
       "  </thead>\n",
       "  <tbody>\n",
       "    <tr>\n",
       "      <th>0</th>\n",
       "      <td>5CB9DFCECF79AF84</td>\n",
       "      <td>classic_bike</td>\n",
       "      <td>2021-01-01 00:08:33</td>\n",
       "      <td>2021-01-01 00:33:53</td>\n",
       "      <td>Maine Ave &amp; 9th St SW</td>\n",
       "      <td>31646</td>\n",
       "      <td>Rosslyn Metro / Wilson Blvd &amp; Ft Myer Dr</td>\n",
       "      <td>31015</td>\n",
       "      <td>38.880440</td>\n",
       "      <td>-77.025236</td>\n",
       "      <td>...</td>\n",
       "      <td>1</td>\n",
       "      <td>Friday</td>\n",
       "      <td>Weekday</td>\n",
       "      <td>1</td>\n",
       "      <td>Yes</td>\n",
       "      <td>1</td>\n",
       "      <td>Winter</td>\n",
       "      <td>25.33</td>\n",
       "      <td>POINT (-77.02524 38.88044)</td>\n",
       "      <td>POINT (-77.0723 38.8946)</td>\n",
       "    </tr>\n",
       "    <tr>\n",
       "      <th>2</th>\n",
       "      <td>E74069873161EE33</td>\n",
       "      <td>electric_bike</td>\n",
       "      <td>2021-01-01 00:14:32</td>\n",
       "      <td>2021-01-01 00:28:45</td>\n",
       "      <td>17th &amp; Corcoran St NW</td>\n",
       "      <td>31214</td>\n",
       "      <td>14th &amp; Belmont St NW</td>\n",
       "      <td>31119</td>\n",
       "      <td>38.912138</td>\n",
       "      <td>-77.038568</td>\n",
       "      <td>...</td>\n",
       "      <td>1</td>\n",
       "      <td>Friday</td>\n",
       "      <td>Weekday</td>\n",
       "      <td>1</td>\n",
       "      <td>Yes</td>\n",
       "      <td>1</td>\n",
       "      <td>Winter</td>\n",
       "      <td>14.22</td>\n",
       "      <td>POINT (-77.03857 38.91214)</td>\n",
       "      <td>POINT (-77.03169 38.92087)</td>\n",
       "    </tr>\n",
       "    <tr>\n",
       "      <th>3</th>\n",
       "      <td>91F95E512CABC46A</td>\n",
       "      <td>classic_bike</td>\n",
       "      <td>2021-01-01 00:15:45</td>\n",
       "      <td>2021-01-01 00:21:20</td>\n",
       "      <td>Wilson Blvd. &amp; N. Vermont St.</td>\n",
       "      <td>31926</td>\n",
       "      <td>Wilson Blvd. &amp; N. Vermont St.</td>\n",
       "      <td>31926</td>\n",
       "      <td>38.879477</td>\n",
       "      <td>-77.114563</td>\n",
       "      <td>...</td>\n",
       "      <td>1</td>\n",
       "      <td>Friday</td>\n",
       "      <td>Weekday</td>\n",
       "      <td>1</td>\n",
       "      <td>Yes</td>\n",
       "      <td>1</td>\n",
       "      <td>Winter</td>\n",
       "      <td>5.58</td>\n",
       "      <td>POINT (-77.11456 38.87948)</td>\n",
       "      <td>POINT (-77.11456 38.87948)</td>\n",
       "    </tr>\n",
       "    <tr>\n",
       "      <th>4</th>\n",
       "      <td>DA46A05139C0EA2F</td>\n",
       "      <td>classic_bike</td>\n",
       "      <td>2021-01-01 00:17:46</td>\n",
       "      <td>2021-01-01 00:21:00</td>\n",
       "      <td>11th &amp; Park Rd NW</td>\n",
       "      <td>31651</td>\n",
       "      <td>14th &amp; Newton St NW</td>\n",
       "      <td>31649</td>\n",
       "      <td>38.931322</td>\n",
       "      <td>-77.028247</td>\n",
       "      <td>...</td>\n",
       "      <td>1</td>\n",
       "      <td>Friday</td>\n",
       "      <td>Weekday</td>\n",
       "      <td>1</td>\n",
       "      <td>Yes</td>\n",
       "      <td>1</td>\n",
       "      <td>Winter</td>\n",
       "      <td>3.23</td>\n",
       "      <td>POINT (-77.02825 38.93132)</td>\n",
       "      <td>POINT (-77.03296 38.93199)</td>\n",
       "    </tr>\n",
       "    <tr>\n",
       "      <th>6</th>\n",
       "      <td>0535306B61EF92F9</td>\n",
       "      <td>classic_bike</td>\n",
       "      <td>2021-01-01 00:19:06</td>\n",
       "      <td>2021-01-01 00:36:28</td>\n",
       "      <td>Bladensburg Rd &amp; Benning Rd NE</td>\n",
       "      <td>31617</td>\n",
       "      <td>Good Hope Rd &amp; MLK Ave SE</td>\n",
       "      <td>31802</td>\n",
       "      <td>38.900413</td>\n",
       "      <td>-76.982872</td>\n",
       "      <td>...</td>\n",
       "      <td>1</td>\n",
       "      <td>Friday</td>\n",
       "      <td>Weekday</td>\n",
       "      <td>1</td>\n",
       "      <td>Yes</td>\n",
       "      <td>1</td>\n",
       "      <td>Winter</td>\n",
       "      <td>17.37</td>\n",
       "      <td>POINT (-76.98287 38.90041)</td>\n",
       "      <td>POINT (-76.98804 38.86737)</td>\n",
       "    </tr>\n",
       "  </tbody>\n",
       "</table>\n",
       "<p>5 rows × 24 columns</p>\n",
       "</div>"
      ],
      "text/plain": [
       "            ride_id  rideable_type          started_at            ended_at  \\\n",
       "0  5CB9DFCECF79AF84   classic_bike 2021-01-01 00:08:33 2021-01-01 00:33:53   \n",
       "2  E74069873161EE33  electric_bike 2021-01-01 00:14:32 2021-01-01 00:28:45   \n",
       "3  91F95E512CABC46A   classic_bike 2021-01-01 00:15:45 2021-01-01 00:21:20   \n",
       "4  DA46A05139C0EA2F   classic_bike 2021-01-01 00:17:46 2021-01-01 00:21:00   \n",
       "6  0535306B61EF92F9   classic_bike 2021-01-01 00:19:06 2021-01-01 00:36:28   \n",
       "\n",
       "               start_station_name  start_station_id  \\\n",
       "0           Maine Ave & 9th St SW             31646   \n",
       "2           17th & Corcoran St NW             31214   \n",
       "3   Wilson Blvd. & N. Vermont St.             31926   \n",
       "4               11th & Park Rd NW             31651   \n",
       "6  Bladensburg Rd & Benning Rd NE             31617   \n",
       "\n",
       "                           end_station_name  end_station_id  start_lat  \\\n",
       "0  Rosslyn Metro / Wilson Blvd & Ft Myer Dr           31015  38.880440   \n",
       "2                      14th & Belmont St NW           31119  38.912138   \n",
       "3             Wilson Blvd. & N. Vermont St.           31926  38.879477   \n",
       "4                       14th & Newton St NW           31649  38.931322   \n",
       "6                 Good Hope Rd & MLK Ave SE           31802  38.900413   \n",
       "\n",
       "   start_lng  ...  month  weekday day_type  holiday  is_holiday season  \\\n",
       "0 -77.025236  ...      1   Friday  Weekday        1         Yes      1   \n",
       "2 -77.038568  ...      1   Friday  Weekday        1         Yes      1   \n",
       "3 -77.114563  ...      1   Friday  Weekday        1         Yes      1   \n",
       "4 -77.028247  ...      1   Friday  Weekday        1         Yes      1   \n",
       "6 -76.982872  ...      1   Friday  Weekday        1         Yes      1   \n",
       "\n",
       "  season_name  ride_duration_min              geometry_start  \\\n",
       "0      Winter              25.33  POINT (-77.02524 38.88044)   \n",
       "2      Winter              14.22  POINT (-77.03857 38.91214)   \n",
       "3      Winter               5.58  POINT (-77.11456 38.87948)   \n",
       "4      Winter               3.23  POINT (-77.02825 38.93132)   \n",
       "6      Winter              17.37  POINT (-76.98287 38.90041)   \n",
       "\n",
       "                 geometry_end  \n",
       "0    POINT (-77.0723 38.8946)  \n",
       "2  POINT (-77.03169 38.92087)  \n",
       "3  POINT (-77.11456 38.87948)  \n",
       "4  POINT (-77.03296 38.93199)  \n",
       "6  POINT (-76.98804 38.86737)  \n",
       "\n",
       "[5 rows x 24 columns]"
      ]
     },
     "execution_count": 45,
     "metadata": {},
     "output_type": "execute_result"
    }
   ],
   "source": [
    "df_full.head()"
   ]
  },
  {
   "cell_type": "code",
   "execution_count": 50,
   "metadata": {},
   "outputs": [
    {
     "data": {
      "text/plain": [
       "0                                       Maine Ave & 9th St SW\n",
       "2                                       17th & Corcoran St NW\n",
       "3                               Wilson Blvd. & N. Vermont St.\n",
       "4                                           11th & Park Rd NW\n",
       "6                              Bladensburg Rd & Benning Rd NE\n",
       "                                  ...                        \n",
       "10693989     Ohio Dr & West Basin Dr SW / MLK & FDR Memorials\n",
       "10693990                          18th & New Hampshire Ave NW\n",
       "10693991    Eastern Market Metro / Pennsylvania Ave & 8th ...\n",
       "10693992                                  King St & Peyton St\n",
       "10693993    Eastern Market Metro / Pennsylvania Ave & 8th ...\n",
       "Name: start_station_name, Length: 9453581, dtype: object"
      ]
     },
     "execution_count": 50,
     "metadata": {},
     "output_type": "execute_result"
    }
   ],
   "source": [
    "df_full.start_station_name"
   ]
  },
  {
   "cell_type": "code",
   "execution_count": 69,
   "metadata": {},
   "outputs": [
    {
     "name": "stdout",
     "output_type": "stream",
     "text": [
      "<class 'pandas.core.frame.DataFrame'>\n",
      "RangeIndex: 773 entries, 0 to 772\n",
      "Data columns (total 4 columns):\n",
      " #   Column              Non-Null Count  Dtype   \n",
      "---  ------              --------------  -----   \n",
      " 0   start_station_id    773 non-null    category\n",
      " 1   start_lat           773 non-null    float64 \n",
      " 2   start_lng           773 non-null    float64 \n",
      " 3   start_station_name  773 non-null    object  \n",
      "dtypes: category(1), float64(2), object(1)\n",
      "memory usage: 42.7+ KB\n",
      "=========\n",
      "=========\n",
      "=========\n",
      "=========\n",
      "=========\n",
      "=========\n",
      "    start_station_id  start_lat  start_lng  \\\n",
      "0              31101  38.917764 -77.032096   \n",
      "1              31125  38.919018 -77.034449   \n",
      "2              31200  38.910100 -77.044400   \n",
      "3              31201  38.909892 -77.034337   \n",
      "4              31202  38.913046 -77.032008   \n",
      "5              31203  38.908600 -77.032300   \n",
      "6              31214  38.912138 -77.038568   \n",
      "7              31229  38.915544 -77.038252   \n",
      "8              31247  38.888553 -77.032427   \n",
      "9              31248  38.888774 -77.028694   \n",
      "10             31258  38.888255 -77.049437   \n",
      "11             31266  38.905578 -77.027313   \n",
      "12             31281  38.908640 -77.022770   \n",
      "13             31288  38.890496 -77.017246   \n",
      "14             31289  38.890539 -77.049383   \n",
      "15             31600  38.903040 -77.019027   \n",
      "16             31603  38.905697 -77.005483   \n",
      "17             31613  38.884260 -76.994736   \n",
      "18             31623  38.896960 -77.004930   \n",
      "19             31627  38.905470 -77.002130   \n",
      "\n",
      "                                   start_station_name  ride_count  \n",
      "0                                      14th & V St NW       75557  \n",
      "1                                      15th & W St NW       63033  \n",
      "2                Massachusetts Ave & Dupont Circle NW       71565  \n",
      "3                                      15th & P St NW       95178  \n",
      "4                                      14th & R St NW       67017  \n",
      "5                          14th & Rhode Island Ave NW       62206  \n",
      "6                               17th & Corcoran St NW       63538  \n",
      "7                         New Hampshire Ave & T St NW      101813  \n",
      "8                           Jefferson Dr & 14th St SW       83744  \n",
      "9   Smithsonian-National Mall / Jefferson Dr & 12t...       72270  \n",
      "10                                   Lincoln Memorial       93421  \n",
      "11                                     11th & M St NW       64221  \n",
      "12                                      8th & O St NW       67704  \n",
      "13                             4th St & Madison Dr NW       80313  \n",
      "14        Henry Bacon Dr & Lincoln Memorial Circle NW       73507  \n",
      "15                                      5th & K St NW       76218  \n",
      "16                                      1st & M St NE       84971  \n",
      "17  Eastern Market Metro / Pennsylvania Ave & 8th ...       74887  \n",
      "18                    Columbus Circle / Union Station       99779  \n",
      "19                                      3rd & M St NE       63807  \n"
     ]
    }
   ],
   "source": [
    "df_stationid = df_full.groupby('start_station_id')[['start_lat','start_lng', 'start_station_name']].first().reset_index()\n",
    "df_stationid['start_station_id'] = df_stationid['start_station_id'].astype('category')\n",
    "df_stationid.info()\n",
    "print('=========')\n",
    "print('=========')\n",
    "print('=========')\n",
    "print('=========')\n",
    "print('=========')\n",
    "print('=========')\n",
    "# groups by and creates a name for the new column\n",
    "ride_counts = df_full.groupby('start_station_id').size().reset_index(name='ride_count')\n",
    "# creates a new dataframe with a filter of only the top 20 stations. \n",
    "top_20 = ride_counts.sort_values('ride_count', ascending=False).head(20)\n",
    "# creates a new DF with only the stations from df_stationid that are on the top_20 stations DF, note this one only has station names but no ride count. \n",
    "top_20_stations = df_stationid[df_stationid['start_station_id'].isin(top_20['start_station_id'])]\n",
    "# Merges top_20_stations with top_20 so that we have station name + ride count. \n",
    "top_20_stations = top_20_stations.merge(top_20, on='start_station_id')\n",
    "print(top_20_stations)\n",
    "\n"
   ]
  },
  {
   "cell_type": "code",
   "execution_count": 64,
   "metadata": {},
   "outputs": [
    {
     "data": {
      "text/plain": [
       "Index(['ride_id', 'rideable_type', 'started_at', 'ended_at',\n",
       "       'start_station_name', 'start_station_id', 'end_station_name',\n",
       "       'end_station_id', 'start_lat', 'start_lng', 'end_lat', 'end_lng',\n",
       "       'member_casual', 'year', 'month', 'weekday', 'day_type', 'holiday',\n",
       "       'is_holiday', 'season', 'season_name', 'ride_duration_min',\n",
       "       'geometry_start', 'geometry_end'],\n",
       "      dtype='object')"
      ]
     },
     "execution_count": 64,
     "metadata": {},
     "output_type": "execute_result"
    }
   ],
   "source": [
    "df_full.columns"
   ]
  },
  {
   "cell_type": "markdown",
   "metadata": {},
   "source": [
    "#### Adding Markers and Names "
   ]
  },
  {
   "cell_type": "code",
   "execution_count": null,
   "metadata": {},
   "outputs": [
    {
     "data": {
      "text/html": [
       "<div style=\"width:100%;\"><div style=\"position:relative;width:100%;height:0;padding-bottom:60%;\"><span style=\"color:#565656\">Make this Notebook Trusted to load map: File -> Trust Notebook</span><iframe srcdoc=\"&lt;!DOCTYPE html&gt;\n",
       "&lt;html&gt;\n",
       "&lt;head&gt;\n",
       "    \n",
       "    &lt;meta http-equiv=&quot;content-type&quot; content=&quot;text/html; charset=UTF-8&quot; /&gt;\n",
       "    &lt;script src=&quot;https://cdn.jsdelivr.net/npm/leaflet@1.9.3/dist/leaflet.js&quot;&gt;&lt;/script&gt;\n",
       "    &lt;script src=&quot;https://code.jquery.com/jquery-3.7.1.min.js&quot;&gt;&lt;/script&gt;\n",
       "    &lt;script src=&quot;https://cdn.jsdelivr.net/npm/bootstrap@5.2.2/dist/js/bootstrap.bundle.min.js&quot;&gt;&lt;/script&gt;\n",
       "    &lt;script src=&quot;https://cdnjs.cloudflare.com/ajax/libs/Leaflet.awesome-markers/2.0.2/leaflet.awesome-markers.js&quot;&gt;&lt;/script&gt;\n",
       "    &lt;link rel=&quot;stylesheet&quot; href=&quot;https://cdn.jsdelivr.net/npm/leaflet@1.9.3/dist/leaflet.css&quot;/&gt;\n",
       "    &lt;link rel=&quot;stylesheet&quot; href=&quot;https://cdn.jsdelivr.net/npm/bootstrap@5.2.2/dist/css/bootstrap.min.css&quot;/&gt;\n",
       "    &lt;link rel=&quot;stylesheet&quot; href=&quot;https://netdna.bootstrapcdn.com/bootstrap/3.0.0/css/bootstrap-glyphicons.css&quot;/&gt;\n",
       "    &lt;link rel=&quot;stylesheet&quot; href=&quot;https://cdn.jsdelivr.net/npm/@fortawesome/fontawesome-free@6.2.0/css/all.min.css&quot;/&gt;\n",
       "    &lt;link rel=&quot;stylesheet&quot; href=&quot;https://cdnjs.cloudflare.com/ajax/libs/Leaflet.awesome-markers/2.0.2/leaflet.awesome-markers.css&quot;/&gt;\n",
       "    &lt;link rel=&quot;stylesheet&quot; href=&quot;https://cdn.jsdelivr.net/gh/python-visualization/folium/folium/templates/leaflet.awesome.rotate.min.css&quot;/&gt;\n",
       "    \n",
       "            &lt;meta name=&quot;viewport&quot; content=&quot;width=device-width,\n",
       "                initial-scale=1.0, maximum-scale=1.0, user-scalable=no&quot; /&gt;\n",
       "            &lt;style&gt;\n",
       "                #map_0d55ec9249036da050fff435eeb605ee {\n",
       "                    position: relative;\n",
       "                    width: 100.0%;\n",
       "                    height: 100.0%;\n",
       "                    left: 0.0%;\n",
       "                    top: 0.0%;\n",
       "                }\n",
       "                .leaflet-container { font-size: 1rem; }\n",
       "            &lt;/style&gt;\n",
       "\n",
       "            &lt;style&gt;html, body {\n",
       "                width: 100%;\n",
       "                height: 100%;\n",
       "                margin: 0;\n",
       "                padding: 0;\n",
       "            }\n",
       "            &lt;/style&gt;\n",
       "\n",
       "            &lt;style&gt;#map {\n",
       "                position:absolute;\n",
       "                top:0;\n",
       "                bottom:0;\n",
       "                right:0;\n",
       "                left:0;\n",
       "                }\n",
       "            &lt;/style&gt;\n",
       "\n",
       "            &lt;script&gt;\n",
       "                L_NO_TOUCH = false;\n",
       "                L_DISABLE_3D = false;\n",
       "            &lt;/script&gt;\n",
       "\n",
       "        \n",
       "&lt;/head&gt;\n",
       "&lt;body&gt;\n",
       "    \n",
       "    \n",
       "            &lt;div class=&quot;folium-map&quot; id=&quot;map_0d55ec9249036da050fff435eeb605ee&quot; &gt;&lt;/div&gt;\n",
       "        \n",
       "&lt;/body&gt;\n",
       "&lt;script&gt;\n",
       "    \n",
       "    \n",
       "            var map_0d55ec9249036da050fff435eeb605ee = L.map(\n",
       "                &quot;map_0d55ec9249036da050fff435eeb605ee&quot;,\n",
       "                {\n",
       "                    center: [38.90311819014575, -77.02699933570246],\n",
       "                    crs: L.CRS.EPSG3857,\n",
       "                    ...{\n",
       "  &quot;zoom&quot;: 12,\n",
       "  &quot;zoomControl&quot;: true,\n",
       "  &quot;preferCanvas&quot;: false,\n",
       "}\n",
       "\n",
       "                }\n",
       "            );\n",
       "\n",
       "            \n",
       "\n",
       "        \n",
       "    \n",
       "            var tile_layer_15ed527ac2df21086cc475dd2786a103 = L.tileLayer(\n",
       "                &quot;https://tile.openstreetmap.org/{z}/{x}/{y}.png&quot;,\n",
       "                {\n",
       "  &quot;minZoom&quot;: 0,\n",
       "  &quot;maxZoom&quot;: 19,\n",
       "  &quot;maxNativeZoom&quot;: 19,\n",
       "  &quot;noWrap&quot;: false,\n",
       "  &quot;attribution&quot;: &quot;\\u0026copy; \\u003ca href=\\&quot;https://www.openstreetmap.org/copyright\\&quot;\\u003eOpenStreetMap\\u003c/a\\u003e contributors&quot;,\n",
       "  &quot;subdomains&quot;: &quot;abc&quot;,\n",
       "  &quot;detectRetina&quot;: false,\n",
       "  &quot;tms&quot;: false,\n",
       "  &quot;opacity&quot;: 1,\n",
       "}\n",
       "\n",
       "            );\n",
       "        \n",
       "    \n",
       "            tile_layer_15ed527ac2df21086cc475dd2786a103.addTo(map_0d55ec9249036da050fff435eeb605ee);\n",
       "        \n",
       "    \n",
       "            var marker_1ab06ecacd0216639bbe05b9fdf24e4e = L.marker(\n",
       "                [38.9177645, -77.032096],\n",
       "                {\n",
       "}\n",
       "            ).addTo(map_0d55ec9249036da050fff435eeb605ee);\n",
       "        \n",
       "    \n",
       "        var popup_4450bf9fe71ba06558713666529a0f10 = L.popup({\n",
       "  &quot;maxWidth&quot;: 350,\n",
       "});\n",
       "\n",
       "        \n",
       "            \n",
       "                var html_77c86fa2632a756f05bb12461b8813a9 = $(`&lt;div id=&quot;html_77c86fa2632a756f05bb12461b8813a9&quot; style=&quot;width: 100.0%; height: 100.0%;&quot;&gt;&lt;div style=&quot;white-space: nowrap;&quot;&gt;14th &amp; V St NW | Rides: 75557&lt;/div&gt;&lt;/div&gt;`)[0];\n",
       "                popup_4450bf9fe71ba06558713666529a0f10.setContent(html_77c86fa2632a756f05bb12461b8813a9);\n",
       "            \n",
       "        \n",
       "\n",
       "        marker_1ab06ecacd0216639bbe05b9fdf24e4e.bindPopup(popup_4450bf9fe71ba06558713666529a0f10)\n",
       "        ;\n",
       "\n",
       "        \n",
       "    \n",
       "    \n",
       "            var marker_39fdfb9e217122d1456462ee450056a2 = L.marker(\n",
       "                [38.9190185, -77.034449],\n",
       "                {\n",
       "}\n",
       "            ).addTo(map_0d55ec9249036da050fff435eeb605ee);\n",
       "        \n",
       "    \n",
       "        var popup_9a071657bfa649796e403dd16cdf1005 = L.popup({\n",
       "  &quot;maxWidth&quot;: 350,\n",
       "});\n",
       "\n",
       "        \n",
       "            \n",
       "                var html_597250db9da07c6ea1802a61dae1abb9 = $(`&lt;div id=&quot;html_597250db9da07c6ea1802a61dae1abb9&quot; style=&quot;width: 100.0%; height: 100.0%;&quot;&gt;&lt;div style=&quot;white-space: nowrap;&quot;&gt;15th &amp; W St NW | Rides: 63033&lt;/div&gt;&lt;/div&gt;`)[0];\n",
       "                popup_9a071657bfa649796e403dd16cdf1005.setContent(html_597250db9da07c6ea1802a61dae1abb9);\n",
       "            \n",
       "        \n",
       "\n",
       "        marker_39fdfb9e217122d1456462ee450056a2.bindPopup(popup_9a071657bfa649796e403dd16cdf1005)\n",
       "        ;\n",
       "\n",
       "        \n",
       "    \n",
       "    \n",
       "            var marker_0ed21a22a05caf0625d16ea107dda6fa = L.marker(\n",
       "                [38.9101, -77.0444],\n",
       "                {\n",
       "}\n",
       "            ).addTo(map_0d55ec9249036da050fff435eeb605ee);\n",
       "        \n",
       "    \n",
       "        var popup_686cd2206e9d851c46ed32c8309c48ab = L.popup({\n",
       "  &quot;maxWidth&quot;: 350,\n",
       "});\n",
       "\n",
       "        \n",
       "            \n",
       "                var html_9f224c63346c02f21dbd6b395dc68809 = $(`&lt;div id=&quot;html_9f224c63346c02f21dbd6b395dc68809&quot; style=&quot;width: 100.0%; height: 100.0%;&quot;&gt;&lt;div style=&quot;white-space: nowrap;&quot;&gt;Massachusetts Ave &amp; Dupont Circle NW | Rides: 71565&lt;/div&gt;&lt;/div&gt;`)[0];\n",
       "                popup_686cd2206e9d851c46ed32c8309c48ab.setContent(html_9f224c63346c02f21dbd6b395dc68809);\n",
       "            \n",
       "        \n",
       "\n",
       "        marker_0ed21a22a05caf0625d16ea107dda6fa.bindPopup(popup_686cd2206e9d851c46ed32c8309c48ab)\n",
       "        ;\n",
       "\n",
       "        \n",
       "    \n",
       "    \n",
       "            var marker_40727f5efb3b5249b5146bb83c843177 = L.marker(\n",
       "                [38.909892, -77.034337],\n",
       "                {\n",
       "}\n",
       "            ).addTo(map_0d55ec9249036da050fff435eeb605ee);\n",
       "        \n",
       "    \n",
       "        var popup_f50e88570f849c712e7acfd3eb27e709 = L.popup({\n",
       "  &quot;maxWidth&quot;: 350,\n",
       "});\n",
       "\n",
       "        \n",
       "            \n",
       "                var html_ae11026ea2d3e3304a44149872de2277 = $(`&lt;div id=&quot;html_ae11026ea2d3e3304a44149872de2277&quot; style=&quot;width: 100.0%; height: 100.0%;&quot;&gt;&lt;div style=&quot;white-space: nowrap;&quot;&gt;15th &amp; P St NW | Rides: 95178&lt;/div&gt;&lt;/div&gt;`)[0];\n",
       "                popup_f50e88570f849c712e7acfd3eb27e709.setContent(html_ae11026ea2d3e3304a44149872de2277);\n",
       "            \n",
       "        \n",
       "\n",
       "        marker_40727f5efb3b5249b5146bb83c843177.bindPopup(popup_f50e88570f849c712e7acfd3eb27e709)\n",
       "        ;\n",
       "\n",
       "        \n",
       "    \n",
       "    \n",
       "            var marker_8c84a258d8144133e0e4fda18ae586a4 = L.marker(\n",
       "                [38.913046, -77.032008],\n",
       "                {\n",
       "}\n",
       "            ).addTo(map_0d55ec9249036da050fff435eeb605ee);\n",
       "        \n",
       "    \n",
       "        var popup_f1eecccb5040683460bee8d70ab39b9a = L.popup({\n",
       "  &quot;maxWidth&quot;: 350,\n",
       "});\n",
       "\n",
       "        \n",
       "            \n",
       "                var html_be94b62ca901144fb44c71f5391dcebb = $(`&lt;div id=&quot;html_be94b62ca901144fb44c71f5391dcebb&quot; style=&quot;width: 100.0%; height: 100.0%;&quot;&gt;&lt;div style=&quot;white-space: nowrap;&quot;&gt;14th &amp; R St NW | Rides: 67017&lt;/div&gt;&lt;/div&gt;`)[0];\n",
       "                popup_f1eecccb5040683460bee8d70ab39b9a.setContent(html_be94b62ca901144fb44c71f5391dcebb);\n",
       "            \n",
       "        \n",
       "\n",
       "        marker_8c84a258d8144133e0e4fda18ae586a4.bindPopup(popup_f1eecccb5040683460bee8d70ab39b9a)\n",
       "        ;\n",
       "\n",
       "        \n",
       "    \n",
       "    \n",
       "            var marker_d4fcbf7669ad42c8fb6422725a2a2ebf = L.marker(\n",
       "                [38.9086, -77.0323],\n",
       "                {\n",
       "}\n",
       "            ).addTo(map_0d55ec9249036da050fff435eeb605ee);\n",
       "        \n",
       "    \n",
       "        var popup_343ac7b0d8a983c8a239dc83fc844fb8 = L.popup({\n",
       "  &quot;maxWidth&quot;: 350,\n",
       "});\n",
       "\n",
       "        \n",
       "            \n",
       "                var html_253eb2e388e5795c5d0ad4608be2383d = $(`&lt;div id=&quot;html_253eb2e388e5795c5d0ad4608be2383d&quot; style=&quot;width: 100.0%; height: 100.0%;&quot;&gt;&lt;div style=&quot;white-space: nowrap;&quot;&gt;14th &amp; Rhode Island Ave NW | Rides: 62206&lt;/div&gt;&lt;/div&gt;`)[0];\n",
       "                popup_343ac7b0d8a983c8a239dc83fc844fb8.setContent(html_253eb2e388e5795c5d0ad4608be2383d);\n",
       "            \n",
       "        \n",
       "\n",
       "        marker_d4fcbf7669ad42c8fb6422725a2a2ebf.bindPopup(popup_343ac7b0d8a983c8a239dc83fc844fb8)\n",
       "        ;\n",
       "\n",
       "        \n",
       "    \n",
       "    \n",
       "            var marker_1164066f4dfeb29cac8b033eae8c06d4 = L.marker(\n",
       "                [38.9121375, -77.03856816666666],\n",
       "                {\n",
       "}\n",
       "            ).addTo(map_0d55ec9249036da050fff435eeb605ee);\n",
       "        \n",
       "    \n",
       "        var popup_394b1cfc9c28070851c7483142a1fa21 = L.popup({\n",
       "  &quot;maxWidth&quot;: 350,\n",
       "});\n",
       "\n",
       "        \n",
       "            \n",
       "                var html_9dd40109e73a77e39eb53afdc0c7bf9f = $(`&lt;div id=&quot;html_9dd40109e73a77e39eb53afdc0c7bf9f&quot; style=&quot;width: 100.0%; height: 100.0%;&quot;&gt;&lt;div style=&quot;white-space: nowrap;&quot;&gt;17th &amp; Corcoran St NW | Rides: 63538&lt;/div&gt;&lt;/div&gt;`)[0];\n",
       "                popup_394b1cfc9c28070851c7483142a1fa21.setContent(html_9dd40109e73a77e39eb53afdc0c7bf9f);\n",
       "            \n",
       "        \n",
       "\n",
       "        marker_1164066f4dfeb29cac8b033eae8c06d4.bindPopup(popup_394b1cfc9c28070851c7483142a1fa21)\n",
       "        ;\n",
       "\n",
       "        \n",
       "    \n",
       "    \n",
       "            var marker_6cfcd3c5aea4fceb003f616e31416d81 = L.marker(\n",
       "                [38.915544, -77.038252],\n",
       "                {\n",
       "}\n",
       "            ).addTo(map_0d55ec9249036da050fff435eeb605ee);\n",
       "        \n",
       "    \n",
       "        var popup_835d8054515227453c382b09196fcf3d = L.popup({\n",
       "  &quot;maxWidth&quot;: 350,\n",
       "});\n",
       "\n",
       "        \n",
       "            \n",
       "                var html_3da355bc56f66e99071fb19ba953c15f = $(`&lt;div id=&quot;html_3da355bc56f66e99071fb19ba953c15f&quot; style=&quot;width: 100.0%; height: 100.0%;&quot;&gt;&lt;div style=&quot;white-space: nowrap;&quot;&gt;New Hampshire Ave &amp; T St NW | Rides: 101813&lt;/div&gt;&lt;/div&gt;`)[0];\n",
       "                popup_835d8054515227453c382b09196fcf3d.setContent(html_3da355bc56f66e99071fb19ba953c15f);\n",
       "            \n",
       "        \n",
       "\n",
       "        marker_6cfcd3c5aea4fceb003f616e31416d81.bindPopup(popup_835d8054515227453c382b09196fcf3d)\n",
       "        ;\n",
       "\n",
       "        \n",
       "    \n",
       "    \n",
       "            var marker_0625058fbb84363ab1692061d8ec568b = L.marker(\n",
       "                [38.8885525, -77.032427],\n",
       "                {\n",
       "}\n",
       "            ).addTo(map_0d55ec9249036da050fff435eeb605ee);\n",
       "        \n",
       "    \n",
       "        var popup_02e31599b88be58b390ae2de3ac197c8 = L.popup({\n",
       "  &quot;maxWidth&quot;: 350,\n",
       "});\n",
       "\n",
       "        \n",
       "            \n",
       "                var html_74acf38c00b7f3a6d97b6c01a1d382ac = $(`&lt;div id=&quot;html_74acf38c00b7f3a6d97b6c01a1d382ac&quot; style=&quot;width: 100.0%; height: 100.0%;&quot;&gt;&lt;div style=&quot;white-space: nowrap;&quot;&gt;Jefferson Dr &amp; 14th St SW | Rides: 83744&lt;/div&gt;&lt;/div&gt;`)[0];\n",
       "                popup_02e31599b88be58b390ae2de3ac197c8.setContent(html_74acf38c00b7f3a6d97b6c01a1d382ac);\n",
       "            \n",
       "        \n",
       "\n",
       "        marker_0625058fbb84363ab1692061d8ec568b.bindPopup(popup_02e31599b88be58b390ae2de3ac197c8)\n",
       "        ;\n",
       "\n",
       "        \n",
       "    \n",
       "    \n",
       "            var marker_855e7a6b17246558d6bd716d3b28db99 = L.marker(\n",
       "                [38.888774, -77.028694],\n",
       "                {\n",
       "}\n",
       "            ).addTo(map_0d55ec9249036da050fff435eeb605ee);\n",
       "        \n",
       "    \n",
       "        var popup_0b0dbc849c09485211a83747b1ccd6d9 = L.popup({\n",
       "  &quot;maxWidth&quot;: 350,\n",
       "});\n",
       "\n",
       "        \n",
       "            \n",
       "                var html_1cc9127403129aa4358ba86ea83bf741 = $(`&lt;div id=&quot;html_1cc9127403129aa4358ba86ea83bf741&quot; style=&quot;width: 100.0%; height: 100.0%;&quot;&gt;&lt;div style=&quot;white-space: nowrap;&quot;&gt;Smithsonian-National Mall / Jefferson Dr &amp; 12th St SW | Rides: 72270&lt;/div&gt;&lt;/div&gt;`)[0];\n",
       "                popup_0b0dbc849c09485211a83747b1ccd6d9.setContent(html_1cc9127403129aa4358ba86ea83bf741);\n",
       "            \n",
       "        \n",
       "\n",
       "        marker_855e7a6b17246558d6bd716d3b28db99.bindPopup(popup_0b0dbc849c09485211a83747b1ccd6d9)\n",
       "        ;\n",
       "\n",
       "        \n",
       "    \n",
       "    \n",
       "            var marker_1ed1ef35cbe817db34ec5300c787343e = L.marker(\n",
       "                [38.888255, -77.049437],\n",
       "                {\n",
       "}\n",
       "            ).addTo(map_0d55ec9249036da050fff435eeb605ee);\n",
       "        \n",
       "    \n",
       "        var popup_8225ffdfb19b5b42bfba6aacdada2f9a = L.popup({\n",
       "  &quot;maxWidth&quot;: 350,\n",
       "});\n",
       "\n",
       "        \n",
       "            \n",
       "                var html_e5bfd946cd7871f0cb26d47910cce28d = $(`&lt;div id=&quot;html_e5bfd946cd7871f0cb26d47910cce28d&quot; style=&quot;width: 100.0%; height: 100.0%;&quot;&gt;&lt;div style=&quot;white-space: nowrap;&quot;&gt;Lincoln Memorial | Rides: 93421&lt;/div&gt;&lt;/div&gt;`)[0];\n",
       "                popup_8225ffdfb19b5b42bfba6aacdada2f9a.setContent(html_e5bfd946cd7871f0cb26d47910cce28d);\n",
       "            \n",
       "        \n",
       "\n",
       "        marker_1ed1ef35cbe817db34ec5300c787343e.bindPopup(popup_8225ffdfb19b5b42bfba6aacdada2f9a)\n",
       "        ;\n",
       "\n",
       "        \n",
       "    \n",
       "    \n",
       "            var marker_613da26988fdea3b55c038d9daa57d14 = L.marker(\n",
       "                [38.9055785, -77.027313],\n",
       "                {\n",
       "}\n",
       "            ).addTo(map_0d55ec9249036da050fff435eeb605ee);\n",
       "        \n",
       "    \n",
       "        var popup_a8ea6405bedde9c6fceda9bdf5f87fa9 = L.popup({\n",
       "  &quot;maxWidth&quot;: 350,\n",
       "});\n",
       "\n",
       "        \n",
       "            \n",
       "                var html_9b6be1f021bbdacfd23ada6134b03044 = $(`&lt;div id=&quot;html_9b6be1f021bbdacfd23ada6134b03044&quot; style=&quot;width: 100.0%; height: 100.0%;&quot;&gt;&lt;div style=&quot;white-space: nowrap;&quot;&gt;11th &amp; M St NW | Rides: 64221&lt;/div&gt;&lt;/div&gt;`)[0];\n",
       "                popup_a8ea6405bedde9c6fceda9bdf5f87fa9.setContent(html_9b6be1f021bbdacfd23ada6134b03044);\n",
       "            \n",
       "        \n",
       "\n",
       "        marker_613da26988fdea3b55c038d9daa57d14.bindPopup(popup_a8ea6405bedde9c6fceda9bdf5f87fa9)\n",
       "        ;\n",
       "\n",
       "        \n",
       "    \n",
       "    \n",
       "            var marker_88414bb83517f927e50b6b75a7fc722a = L.marker(\n",
       "                [38.90864, -77.02277],\n",
       "                {\n",
       "}\n",
       "            ).addTo(map_0d55ec9249036da050fff435eeb605ee);\n",
       "        \n",
       "    \n",
       "        var popup_953194f23b065f2b33fe4d2f0d1e63fe = L.popup({\n",
       "  &quot;maxWidth&quot;: 350,\n",
       "});\n",
       "\n",
       "        \n",
       "            \n",
       "                var html_0eced3ee9d787f7e42bbfa94f4678984 = $(`&lt;div id=&quot;html_0eced3ee9d787f7e42bbfa94f4678984&quot; style=&quot;width: 100.0%; height: 100.0%;&quot;&gt;&lt;div style=&quot;white-space: nowrap;&quot;&gt;8th &amp; O St NW | Rides: 67704&lt;/div&gt;&lt;/div&gt;`)[0];\n",
       "                popup_953194f23b065f2b33fe4d2f0d1e63fe.setContent(html_0eced3ee9d787f7e42bbfa94f4678984);\n",
       "            \n",
       "        \n",
       "\n",
       "        marker_88414bb83517f927e50b6b75a7fc722a.bindPopup(popup_953194f23b065f2b33fe4d2f0d1e63fe)\n",
       "        ;\n",
       "\n",
       "        \n",
       "    \n",
       "    \n",
       "            var marker_af2773205eed80f2136951f6e75e0866 = L.marker(\n",
       "                [38.8904955, -77.0172465],\n",
       "                {\n",
       "}\n",
       "            ).addTo(map_0d55ec9249036da050fff435eeb605ee);\n",
       "        \n",
       "    \n",
       "        var popup_5612b600e76f85a2ab5cd6601ec5d677 = L.popup({\n",
       "  &quot;maxWidth&quot;: 350,\n",
       "});\n",
       "\n",
       "        \n",
       "            \n",
       "                var html_684bf68feceba534f32374fbcecda584 = $(`&lt;div id=&quot;html_684bf68feceba534f32374fbcecda584&quot; style=&quot;width: 100.0%; height: 100.0%;&quot;&gt;&lt;div style=&quot;white-space: nowrap;&quot;&gt;4th St &amp; Madison Dr NW | Rides: 80313&lt;/div&gt;&lt;/div&gt;`)[0];\n",
       "                popup_5612b600e76f85a2ab5cd6601ec5d677.setContent(html_684bf68feceba534f32374fbcecda584);\n",
       "            \n",
       "        \n",
       "\n",
       "        marker_af2773205eed80f2136951f6e75e0866.bindPopup(popup_5612b600e76f85a2ab5cd6601ec5d677)\n",
       "        ;\n",
       "\n",
       "        \n",
       "    \n",
       "    \n",
       "            var marker_034d6939684920d66cb1aaa79ac45334 = L.marker(\n",
       "                [38.890539, -77.049383],\n",
       "                {\n",
       "}\n",
       "            ).addTo(map_0d55ec9249036da050fff435eeb605ee);\n",
       "        \n",
       "    \n",
       "        var popup_ccbf71322ddb90569e3ab1af0ad29460 = L.popup({\n",
       "  &quot;maxWidth&quot;: 350,\n",
       "});\n",
       "\n",
       "        \n",
       "            \n",
       "                var html_dd8a43411e311f325feb765495b03e04 = $(`&lt;div id=&quot;html_dd8a43411e311f325feb765495b03e04&quot; style=&quot;width: 100.0%; height: 100.0%;&quot;&gt;&lt;div style=&quot;white-space: nowrap;&quot;&gt;Henry Bacon Dr &amp; Lincoln Memorial Circle NW | Rides: 73507&lt;/div&gt;&lt;/div&gt;`)[0];\n",
       "                popup_ccbf71322ddb90569e3ab1af0ad29460.setContent(html_dd8a43411e311f325feb765495b03e04);\n",
       "            \n",
       "        \n",
       "\n",
       "        marker_034d6939684920d66cb1aaa79ac45334.bindPopup(popup_ccbf71322ddb90569e3ab1af0ad29460)\n",
       "        ;\n",
       "\n",
       "        \n",
       "    \n",
       "    \n",
       "            var marker_9780d026e801142134b691a45d7694d0 = L.marker(\n",
       "                [38.90304, -77.019027],\n",
       "                {\n",
       "}\n",
       "            ).addTo(map_0d55ec9249036da050fff435eeb605ee);\n",
       "        \n",
       "    \n",
       "        var popup_2d0c72a5acc2d53c4655711db257c437 = L.popup({\n",
       "  &quot;maxWidth&quot;: 350,\n",
       "});\n",
       "\n",
       "        \n",
       "            \n",
       "                var html_1983ffbcc2a3c3e4355ac028d0fd3053 = $(`&lt;div id=&quot;html_1983ffbcc2a3c3e4355ac028d0fd3053&quot; style=&quot;width: 100.0%; height: 100.0%;&quot;&gt;&lt;div style=&quot;white-space: nowrap;&quot;&gt;5th &amp; K St NW | Rides: 76218&lt;/div&gt;&lt;/div&gt;`)[0];\n",
       "                popup_2d0c72a5acc2d53c4655711db257c437.setContent(html_1983ffbcc2a3c3e4355ac028d0fd3053);\n",
       "            \n",
       "        \n",
       "\n",
       "        marker_9780d026e801142134b691a45d7694d0.bindPopup(popup_2d0c72a5acc2d53c4655711db257c437)\n",
       "        ;\n",
       "\n",
       "        \n",
       "    \n",
       "    \n",
       "            var marker_6843ac151fc61700b38baf48d0524714 = L.marker(\n",
       "                [38.905697, -77.005483],\n",
       "                {\n",
       "}\n",
       "            ).addTo(map_0d55ec9249036da050fff435eeb605ee);\n",
       "        \n",
       "    \n",
       "        var popup_dbe921831bb27b555aeb291839eb4a3a = L.popup({\n",
       "  &quot;maxWidth&quot;: 350,\n",
       "});\n",
       "\n",
       "        \n",
       "            \n",
       "                var html_f058f67488e5daf2f2722445018d2822 = $(`&lt;div id=&quot;html_f058f67488e5daf2f2722445018d2822&quot; style=&quot;width: 100.0%; height: 100.0%;&quot;&gt;&lt;div style=&quot;white-space: nowrap;&quot;&gt;1st &amp; M St NE | Rides: 84971&lt;/div&gt;&lt;/div&gt;`)[0];\n",
       "                popup_dbe921831bb27b555aeb291839eb4a3a.setContent(html_f058f67488e5daf2f2722445018d2822);\n",
       "            \n",
       "        \n",
       "\n",
       "        marker_6843ac151fc61700b38baf48d0524714.bindPopup(popup_dbe921831bb27b555aeb291839eb4a3a)\n",
       "        ;\n",
       "\n",
       "        \n",
       "    \n",
       "    \n",
       "            var marker_5a22715adeb3915d246756526eb8701d = L.marker(\n",
       "                [38.884260087971725, -76.99473559856415],\n",
       "                {\n",
       "}\n",
       "            ).addTo(map_0d55ec9249036da050fff435eeb605ee);\n",
       "        \n",
       "    \n",
       "        var popup_f067d40adae689ffc66546b7660eceec = L.popup({\n",
       "  &quot;maxWidth&quot;: 350,\n",
       "});\n",
       "\n",
       "        \n",
       "            \n",
       "                var html_e958a4ef431986a1b9f33d02b4eb4759 = $(`&lt;div id=&quot;html_e958a4ef431986a1b9f33d02b4eb4759&quot; style=&quot;width: 100.0%; height: 100.0%;&quot;&gt;&lt;div style=&quot;white-space: nowrap;&quot;&gt;Eastern Market Metro / Pennsylvania Ave &amp; 8th St SE | Rides: 74887&lt;/div&gt;&lt;/div&gt;`)[0];\n",
       "                popup_f067d40adae689ffc66546b7660eceec.setContent(html_e958a4ef431986a1b9f33d02b4eb4759);\n",
       "            \n",
       "        \n",
       "\n",
       "        marker_5a22715adeb3915d246756526eb8701d.bindPopup(popup_f067d40adae689ffc66546b7660eceec)\n",
       "        ;\n",
       "\n",
       "        \n",
       "    \n",
       "    \n",
       "            var marker_90fd21004ff5a9ca546b7e940d219a41 = L.marker(\n",
       "                [38.89696, -77.00493],\n",
       "                {\n",
       "}\n",
       "            ).addTo(map_0d55ec9249036da050fff435eeb605ee);\n",
       "        \n",
       "    \n",
       "        var popup_7dd9f3b99a2a9bd7a024fc367575b591 = L.popup({\n",
       "  &quot;maxWidth&quot;: 350,\n",
       "});\n",
       "\n",
       "        \n",
       "            \n",
       "                var html_1a92ab9166a7e5113ef27f6c24945e91 = $(`&lt;div id=&quot;html_1a92ab9166a7e5113ef27f6c24945e91&quot; style=&quot;width: 100.0%; height: 100.0%;&quot;&gt;&lt;div style=&quot;white-space: nowrap;&quot;&gt;Columbus Circle / Union Station | Rides: 99779&lt;/div&gt;&lt;/div&gt;`)[0];\n",
       "                popup_7dd9f3b99a2a9bd7a024fc367575b591.setContent(html_1a92ab9166a7e5113ef27f6c24945e91);\n",
       "            \n",
       "        \n",
       "\n",
       "        marker_90fd21004ff5a9ca546b7e940d219a41.bindPopup(popup_7dd9f3b99a2a9bd7a024fc367575b591)\n",
       "        ;\n",
       "\n",
       "        \n",
       "    \n",
       "    \n",
       "            var marker_8518030997bb1598b836617a91801e5a = L.marker(\n",
       "                [38.90546971494327, -77.0021304488182],\n",
       "                {\n",
       "}\n",
       "            ).addTo(map_0d55ec9249036da050fff435eeb605ee);\n",
       "        \n",
       "    \n",
       "        var popup_3e53d060ca0c8e0b0af3d1d57e0f991a = L.popup({\n",
       "  &quot;maxWidth&quot;: 350,\n",
       "});\n",
       "\n",
       "        \n",
       "            \n",
       "                var html_d682aaba9194b3d980e8c34143135417 = $(`&lt;div id=&quot;html_d682aaba9194b3d980e8c34143135417&quot; style=&quot;width: 100.0%; height: 100.0%;&quot;&gt;&lt;div style=&quot;white-space: nowrap;&quot;&gt;3rd &amp; M St NE | Rides: 63807&lt;/div&gt;&lt;/div&gt;`)[0];\n",
       "                popup_3e53d060ca0c8e0b0af3d1d57e0f991a.setContent(html_d682aaba9194b3d980e8c34143135417);\n",
       "            \n",
       "        \n",
       "\n",
       "        marker_8518030997bb1598b836617a91801e5a.bindPopup(popup_3e53d060ca0c8e0b0af3d1d57e0f991a)\n",
       "        ;\n",
       "\n",
       "        \n",
       "    \n",
       "&lt;/script&gt;\n",
       "&lt;/html&gt;\" style=\"position:absolute;width:100%;height:100%;left:0;top:0;border:none !important;\" allowfullscreen webkitallowfullscreen mozallowfullscreen></iframe></div></div>"
      ],
      "text/plain": [
       "<folium.folium.Map at 0x4383e7970>"
      ]
     },
     "execution_count": 77,
     "metadata": {},
     "output_type": "execute_result"
    }
   ],
   "source": [
    "top_20_stations['start_station_name'] = top_20_stations['start_station_name'].str.replace('\\n', ' ').str.strip()\n",
    "\n",
    "f = folium.Figure(width=1500, height=500)\n",
    "\n",
    "m = folium.Map(location=[top_20_stations['start_lat'].mean(), top_20_stations['start_lng'].mean()], zoom_start=12)\n",
    "\n",
    "for lat, lon, name, count in zip(top_20_stations['start_lat'], top_20_stations['start_lng'], top_20_stations['start_station_name'], top_20_stations['ride_count']):\n",
    "    popup_html = f'<div style=\"white-space: nowrap;\">{name} | Rides: {count}</div>'\n",
    "    folium.Marker([lat, lon], popup=folium.Popup(popup_html, max_width=350)).add_to(m)\n",
    "\n",
    "m"
   ]
  },
  {
   "cell_type": "markdown",
   "metadata": {},
   "source": [
    "#### Why did we choose the top 20 stations?"
   ]
  },
  {
   "cell_type": "code",
   "execution_count": 78,
   "metadata": {},
   "outputs": [
    {
     "name": "stdout",
     "output_type": "stream",
     "text": [
      "The top 20 stations account for 16.23% of all rides.\n"
     ]
    }
   ],
   "source": [
    "# Total rides in the dataset\n",
    "total_rides = len(df_full)\n",
    "\n",
    "# Total rides from the top 20 stations (sum of their ride_counts)\n",
    "top_20_rides = top_20['ride_count'].sum()\n",
    "\n",
    "# Calculate percentage\n",
    "percentage = (top_20_rides / total_rides) * 100\n",
    "\n",
    "print(f\"The top 20 stations account for {percentage:.2f}% of all rides.\")\n"
   ]
  },
  {
   "cell_type": "code",
   "execution_count": 79,
   "metadata": {},
   "outputs": [
    {
     "name": "stdout",
     "output_type": "stream",
     "text": [
      "Top 20 stations represent 2.59% of all stations.\n"
     ]
    }
   ],
   "source": [
    "total_stations = df_stationid.shape[0]  # total unique stations\n",
    "top_stations_count = 20\n",
    "\n",
    "percentage_stations = (top_stations_count / total_stations) * 100\n",
    "\n",
    "print(f\"Top 20 stations represent {percentage_stations:.2f}% of all stations.\")\n"
   ]
  },
  {
   "cell_type": "code",
   "execution_count": 80,
   "metadata": {},
   "outputs": [
    {
     "name": "stdout",
     "output_type": "stream",
     "text": [
      "Top 20 stations represent 2.59% of all stations, and account for 16.23% of all rides\n"
     ]
    }
   ],
   "source": [
    "print(f'Top 20 stations represent {percentage_stations:.2f}% of all stations, and account for {percentage:.2f}% of all rides')"
   ]
  },
  {
   "cell_type": "markdown",
   "metadata": {},
   "source": [
    "### NEW EDA for TOP 20"
   ]
  },
  {
   "cell_type": "markdown",
   "metadata": {},
   "source": [
    "#### Merging df_full with top20 so I have all columns"
   ]
  },
  {
   "cell_type": "code",
   "execution_count": 82,
   "metadata": {},
   "outputs": [
    {
     "data": {
      "text/html": [
       "<div>\n",
       "<style scoped>\n",
       "    .dataframe tbody tr th:only-of-type {\n",
       "        vertical-align: middle;\n",
       "    }\n",
       "\n",
       "    .dataframe tbody tr th {\n",
       "        vertical-align: top;\n",
       "    }\n",
       "\n",
       "    .dataframe thead th {\n",
       "        text-align: right;\n",
       "    }\n",
       "</style>\n",
       "<table border=\"1\" class=\"dataframe\">\n",
       "  <thead>\n",
       "    <tr style=\"text-align: right;\">\n",
       "      <th></th>\n",
       "      <th>ride_id</th>\n",
       "      <th>rideable_type</th>\n",
       "      <th>started_at</th>\n",
       "      <th>ended_at</th>\n",
       "      <th>start_station_name</th>\n",
       "      <th>start_station_id</th>\n",
       "      <th>end_station_name</th>\n",
       "      <th>end_station_id</th>\n",
       "      <th>start_lat</th>\n",
       "      <th>start_lng</th>\n",
       "      <th>...</th>\n",
       "      <th>month</th>\n",
       "      <th>weekday</th>\n",
       "      <th>day_type</th>\n",
       "      <th>holiday</th>\n",
       "      <th>is_holiday</th>\n",
       "      <th>season</th>\n",
       "      <th>season_name</th>\n",
       "      <th>ride_duration_min</th>\n",
       "      <th>geometry_start</th>\n",
       "      <th>geometry_end</th>\n",
       "    </tr>\n",
       "  </thead>\n",
       "  <tbody>\n",
       "    <tr>\n",
       "      <th>2</th>\n",
       "      <td>E74069873161EE33</td>\n",
       "      <td>electric_bike</td>\n",
       "      <td>2021-01-01 00:14:32</td>\n",
       "      <td>2021-01-01 00:28:45</td>\n",
       "      <td>17th &amp; Corcoran St NW</td>\n",
       "      <td>31214</td>\n",
       "      <td>14th &amp; Belmont St NW</td>\n",
       "      <td>31119</td>\n",
       "      <td>38.912138</td>\n",
       "      <td>-77.038568</td>\n",
       "      <td>...</td>\n",
       "      <td>1</td>\n",
       "      <td>Friday</td>\n",
       "      <td>Weekday</td>\n",
       "      <td>1</td>\n",
       "      <td>Yes</td>\n",
       "      <td>1</td>\n",
       "      <td>Winter</td>\n",
       "      <td>14.22</td>\n",
       "      <td>POINT (-77.03857 38.91214)</td>\n",
       "      <td>POINT (-77.03169 38.92087)</td>\n",
       "    </tr>\n",
       "    <tr>\n",
       "      <th>11</th>\n",
       "      <td>DA579474AAD89387</td>\n",
       "      <td>classic_bike</td>\n",
       "      <td>2021-01-01 00:24:12</td>\n",
       "      <td>2021-01-01 00:47:47</td>\n",
       "      <td>Henry Bacon Dr &amp; Lincoln Memorial Circle NW</td>\n",
       "      <td>31289</td>\n",
       "      <td>14th St &amp; New York Ave NW</td>\n",
       "      <td>31216</td>\n",
       "      <td>38.890539</td>\n",
       "      <td>-77.049383</td>\n",
       "      <td>...</td>\n",
       "      <td>1</td>\n",
       "      <td>Friday</td>\n",
       "      <td>Weekday</td>\n",
       "      <td>1</td>\n",
       "      <td>Yes</td>\n",
       "      <td>1</td>\n",
       "      <td>Winter</td>\n",
       "      <td>23.58</td>\n",
       "      <td>POINT (-77.04938 38.89054)</td>\n",
       "      <td>POINT (-77.03169 38.89963)</td>\n",
       "    </tr>\n",
       "  </tbody>\n",
       "</table>\n",
       "<p>2 rows × 24 columns</p>\n",
       "</div>"
      ],
      "text/plain": [
       "             ride_id  rideable_type          started_at            ended_at  \\\n",
       "2   E74069873161EE33  electric_bike 2021-01-01 00:14:32 2021-01-01 00:28:45   \n",
       "11  DA579474AAD89387   classic_bike 2021-01-01 00:24:12 2021-01-01 00:47:47   \n",
       "\n",
       "                             start_station_name  start_station_id  \\\n",
       "2                         17th & Corcoran St NW             31214   \n",
       "11  Henry Bacon Dr & Lincoln Memorial Circle NW             31289   \n",
       "\n",
       "             end_station_name  end_station_id  start_lat  start_lng  ...  \\\n",
       "2        14th & Belmont St NW           31119  38.912138 -77.038568  ...   \n",
       "11  14th St & New York Ave NW           31216  38.890539 -77.049383  ...   \n",
       "\n",
       "    month  weekday day_type  holiday  is_holiday season season_name  \\\n",
       "2       1   Friday  Weekday        1         Yes      1      Winter   \n",
       "11      1   Friday  Weekday        1         Yes      1      Winter   \n",
       "\n",
       "    ride_duration_min              geometry_start                geometry_end  \n",
       "2               14.22  POINT (-77.03857 38.91214)  POINT (-77.03169 38.92087)  \n",
       "11              23.58  POINT (-77.04938 38.89054)  POINT (-77.03169 38.89963)  \n",
       "\n",
       "[2 rows x 24 columns]"
      ]
     },
     "execution_count": 82,
     "metadata": {},
     "output_type": "execute_result"
    }
   ],
   "source": [
    "df_top20_rides = df_full[df_full['start_station_id'].isin(top_20['start_station_id'])]\n",
    "df_top20_rides.head(2)"
   ]
  },
  {
   "cell_type": "markdown",
   "metadata": {},
   "source": [
    "#### Length of Ride Count"
   ]
  },
  {
   "cell_type": "code",
   "execution_count": 84,
   "metadata": {},
   "outputs": [
    {
     "name": "stderr",
     "output_type": "stream",
     "text": [
      "/var/folders/pm/7vn7thz14p556cr_ql9w5xbw0000gn/T/ipykernel_47497/3095010942.py:14: UserWarning: No artists with labels found to put in legend.  Note that artists whose label start with an underscore are ignored when legend() is called with no argument.\n",
      "  plt.legend()\n"
     ]
    },
    {
     "data": {
      "image/png": "[encoded data removed]",
      "text/plain": [
       "<Figure size 1000x600 with 1 Axes>"
      ]
     },
     "metadata": {},
     "output_type": "display_data"
    }
   ],
   "source": [
    "df_full\n",
    "\n",
    "plt.figure(figsize=(10,6))  # Optional: set figure size for readability\n",
    "plt.hist(df_top20_rides['ride_duration_min'], bins=50, edgecolor='black')  # bins = how many bars\n",
    "plt.xlabel('Ride Duration (minutes)')\n",
    "plt.xticks(range(0, 121, 5))\n",
    "plt.ylabel('Count of Rides')\n",
    "plt.title('Distribution of Ride Durations')\n",
    "\n",
    "ax = plt.gca()\n",
    "ax.yaxis.set_major_formatter(ticker.FuncFormatter(lambda x, pos: f'{x*1e-3:.0f}K'))\n",
    "\n",
    "plt.tight_layout()\n",
    "plt.legend()\n",
    "plt.show()\n"
   ]
  },
  {
   "cell_type": "code",
   "execution_count": 88,
   "metadata": {},
   "outputs": [
    {
     "name": "stderr",
     "output_type": "stream",
     "text": [
      "/var/folders/pm/7vn7thz14p556cr_ql9w5xbw0000gn/T/ipykernel_47497/774725438.py:16: UserWarning: No artists with labels found to put in legend.  Note that artists whose label start with an underscore are ignored when legend() is called with no argument.\n",
      "  plt.legend()\n"
     ]
    },
    {
     "data": {
      "image/png": "[encoded data removed]",
      "text/plain": [
       "<Figure size 1000x600 with 1 Axes>"
      ]
     },
     "metadata": {},
     "output_type": "display_data"
    },
    {
     "data": {
      "image/png": "[encoded data removed]",
      "text/plain": [
       "<Figure size 1000x600 with 1 Axes>"
      ]
     },
     "metadata": {},
     "output_type": "display_data"
    },
    {
     "data": {
      "image/png": "[encoded data removed]",
      "text/plain": [
       "<Figure size 1000x600 with 1 Axes>"
      ]
     },
     "metadata": {},
     "output_type": "display_data"
    }
   ],
   "source": [
    "unique_years = sorted(df_full['year'].unique())\n",
    "\n",
    "for year in unique_years:\n",
    "    plt.figure(figsize=(10,6))  # Optional: set figure size for readability\n",
    "    data_year = df_top20_rides[df_top20_rides['year'] == year]\n",
    "    plt.hist(data_year['ride_duration_min'], bins=50, edgecolor='black')  # bins = how many bars\n",
    "    plt.xlabel('Ride Duration (minutes)')\n",
    "    plt.xticks(range(0, 121, 5))\n",
    "    plt.ylabel('Count of Rides')\n",
    "    plt.title(f'Distribution of Ride Durations during {year}')\n",
    "\n",
    "    ax = plt.gca()\n",
    "    ax.yaxis.set_major_formatter(ticker.FuncFormatter(lambda x, pos: f'{x*1e-3:.0f}K'))\n",
    "\n",
    "    plt.tight_layout()\n",
    "    plt.legend()\n",
    "    plt.show()  "
   ]
  },
  {
   "cell_type": "markdown",
   "metadata": {},
   "source": [
    "#### Length Ride Weekend vs Weekday"
   ]
  },
  {
   "cell_type": "code",
   "execution_count": 89,
   "metadata": {},
   "outputs": [
    {
     "data": {
      "image/png": "[encoded data removed]",
      "text/plain": [
       "<Figure size 600x400 with 1 Axes>"
      ]
     },
     "metadata": {},
     "output_type": "display_data"
    }
   ],
   "source": [
    "weekday_avg = df_top20_rides[df_top20_rides['day_type'] == 'Weekday']['ride_duration_min'].mean()\n",
    "\n",
    "weekend_avg = df_top20_rides[df_top20_rides['day_type'] == 'Weekend']['ride_duration_min'].mean()\n",
    "\n",
    "\n",
    "averages = [weekday_avg, weekend_avg]\n",
    "labels = ['Weekday', 'Weekend']\n",
    "\n",
    "plt.figure(figsize=(6,4))\n",
    "plt.bar(labels, averages, color=['skyblue', 'orange'])\n",
    "\n",
    "plt.xlabel('Day Type')\n",
    "plt.ylabel('Ride duration')\n",
    "plt.title(f'Average ride duration on weekdays vs weekends')\n",
    "ax = plt.gca()\n",
    "ax.yaxis.set_major_formatter(ticker.FuncFormatter(lambda x, pos: f'{x:.0f}'))\n",
    "\n",
    "plt.tight_layout()\n",
    "\n",
    "plt.show()  \n"
   ]
  },
  {
   "cell_type": "markdown",
   "metadata": {},
   "source": [
    "### Thoughts"
   ]
  },
  {
   "cell_type": "code",
   "execution_count": 49,
   "metadata": {},
   "outputs": [],
   "source": [
    "# Top 10 locations on week and weekend.\n",
    "\n",
    "# Kind of bike on weekend and week."
   ]
  },
  {
   "cell_type": "code",
   "execution_count": null,
   "metadata": {},
   "outputs": [],
   "source": []
  }
 ],
 "metadata": {
  "kernelspec": {
   "display_name": "MarcosPython10",
   "language": "python",
   "name": "python3"
  },
  "language_info": {
   "codemirror_mode": {
    "name": "ipython",
    "version": 3
   },
   "file_extension": ".py",
   "mimetype": "text/x-python",
   "name": "python",
   "nbconvert_exporter": "python",
   "pygments_lexer": "ipython3",
   "version": "3.10.18"
  }
 },
 "nbformat": 4,
 "nbformat_minor": 2
}
